{
 "cells": [
  {
   "cell_type": "markdown",
   "id": "d989da20-2210-438f-9388-8d874c116944",
   "metadata": {},
   "source": [
    "# FIFA Ranking - Selenium Scraper"
   ]
  },
  {
   "cell_type": "raw",
   "id": "c59aaacf-d7e0-4d9d-b066-36b8620d8725",
   "metadata": {},
   "source": [
    "!pip install selenium"
   ]
  },
  {
   "cell_type": "code",
   "execution_count": null,
   "id": "319cf8e0",
   "metadata": {},
   "outputs": [],
   "source": [
    "!pip install pymongo"
   ]
  },
  {
   "cell_type": "code",
   "execution_count": 2,
   "id": "606d5b42-214a-4bdb-941a-d15db7befb9d",
   "metadata": {},
   "outputs": [],
   "source": [
    "#%pip install selenium"
   ]
  },
  {
   "cell_type": "code",
   "execution_count": 3,
   "id": "a77c4382-df62-4df8-9aaa-8d8ff5efca62",
   "metadata": {},
   "outputs": [],
   "source": [
    "import selenium\n",
    "from selenium import webdriver\n",
    "from selenium.webdriver.common.by import By\n",
    "from selenium.webdriver.support.ui import WebDriverWait\n",
    "from selenium.webdriver.support import expected_conditions as EC\n",
    "from selenium.common.exceptions import TimeoutException\n",
    "from selenium.webdriver.support.ui import Select"
   ]
  },
  {
   "cell_type": "code",
   "execution_count": 3,
   "id": "6652bc64-54ac-4771-80c6-9a356c348b55",
   "metadata": {},
   "outputs": [
    {
     "name": "stdout",
     "output_type": "stream",
     "text": [
      "4.4.3\n"
     ]
    }
   ],
   "source": [
    "print(selenium.__version__)"
   ]
  },
  {
   "cell_type": "code",
   "execution_count": 4,
   "id": "2d0b357d-3974-4d6b-9e99-b98010e231b9",
   "metadata": {},
   "outputs": [],
   "source": [
    "import pandas as pd\n",
    "import numpy as np\n",
    "import json\n",
    "import os\n",
    "import tqdm\n",
    "import shutil\n",
    "import zipfile\n",
    "from zipfile import ZipFile\n",
    "import requests\n",
    "\n",
    "import datetime\n",
    "from datetime import datetime\n",
    "from datetime import date\n",
    "from tqdm import tqdm\n",
    "import time\n",
    "import pymongo\n",
    "import warnings\n",
    "warnings.filterwarnings('ignore')"
   ]
  },
  {
   "cell_type": "code",
   "execution_count": 2,
   "id": "d94bf851-ae8a-4900-bcb7-e07ab8c13adc",
   "metadata": {},
   "outputs": [
    {
     "name": "stdout",
     "output_type": "stream",
     "text": [
      "https://www.fifa.com/fifaplus/en/tournaments/mens/worldcup/qatar2022/scores-fixtures?country=IT&wtw-filter=ALL\n"
     ]
    }
   ],
   "source": [
    "FIFA_homepage = 'https://www.fifa.com/fifaplus/en/tournaments/mens/worldcup/qatar2022/'\n",
    "FIFA_scores0 = 'scores-fixtures?country=IT&wtw-filter=ALL'\n",
    "FIFA_website = FIFA_homepage + FIFA_scores0\n",
    "print(FIFA_website)"
   ]
  },
  {
   "cell_type": "code",
   "execution_count": 3,
   "id": "294eed84-3c12-4989-8eb2-ee108d149db5",
   "metadata": {},
   "outputs": [
    {
     "data": {
      "text/plain": [
       "'XXXXXXXXXXXXXXXXXX\\\\Desktop\\\\msedgedriver108\\\\msedgedriver'"
      ]
     },
     "execution_count": 3,
     "metadata": {},
     "output_type": "execute_result"
    }
   ],
   "source": [
    "first_path = r'XXXXXXXXXXXXXXXXXX'\n",
    "\n",
    "path_desktop0 = 'Desktop'\n",
    "path_download0 = 'Download'\n",
    "\n",
    "path_desktop = os.path.join(first_path, path_desktop0)\n",
    "path_download = os.path.join(first_path, path_download0)\n",
    "\n",
    "driver0 = os.path.join(path_desktop\n",
    "                       ,'msedgedriver108'\n",
    "                       ,'msedgedriver'\n",
    "                      )\n",
    "driver0"
   ]
  },
  {
   "cell_type": "code",
   "execution_count": 7,
   "id": "cc3ea2a9-cb8b-4dcc-8c32-297d9bd114da",
   "metadata": {},
   "outputs": [],
   "source": [
    "driver = webdriver.Edge(executable_path=driver0)"
   ]
  },
  {
   "cell_type": "code",
   "execution_count": 8,
   "id": "6518fb2a-c3c1-4b1f-b66a-c99a4a02441e",
   "metadata": {},
   "outputs": [],
   "source": [
    "FIFA_teams_website = \"https://www.fifa.com/fifaplus/en/tournaments/mens/worldcup/qatar2022/teams\"\n",
    "driver.get(FIFA_teams_website)"
   ]
  },
  {
   "cell_type": "markdown",
   "id": "d3977371-2b7e-4336-9f42-8e6a19034251",
   "metadata": {},
   "source": [
    "### please maximise Microsoft Edge web browser size"
   ]
  },
  {
   "cell_type": "code",
   "execution_count": 9,
   "id": "5610b5b3-eb15-495c-910e-e0f8448418c5",
   "metadata": {},
   "outputs": [],
   "source": [
    "time.sleep(3)"
   ]
  },
  {
   "cell_type": "markdown",
   "id": "12f15ebc-2dbd-464c-a71d-2612b3670beb",
   "metadata": {},
   "source": [
    "## Reject all cookies"
   ]
  },
  {
   "cell_type": "code",
   "execution_count": 10,
   "id": "091a6a80-7162-4989-8815-8785b9429d0a",
   "metadata": {},
   "outputs": [],
   "source": [
    "# cookies pop-up --> reject all cookies\n",
    "\n",
    "delay = 10 #seconds\n",
    "\n",
    "try:\n",
    "    cookies = WebDriverWait(driver, delay).until(\n",
    "                EC.presence_of_element_located((By.ID, \n",
    "                'onetrust-reject-all-handler'))).click()\n",
    "except TimeoutException:\n",
    "    print(\"no cookies pop-up\")"
   ]
  },
  {
   "cell_type": "code",
   "execution_count": 11,
   "id": "b74a8dc9-7f54-45b9-8308-62ef015d75d0",
   "metadata": {},
   "outputs": [],
   "source": [
    "time.sleep(3)"
   ]
  },
  {
   "cell_type": "markdown",
   "id": "e36cc90f-c3ee-450c-9b2f-4023186d0da6",
   "metadata": {},
   "source": [
    "## World Cup 2022 - Teams"
   ]
  },
  {
   "cell_type": "code",
   "execution_count": 12,
   "id": "826db86b-dbb7-4e92-9f0e-0a14ce7ba101",
   "metadata": {},
   "outputs": [
    {
     "data": {
      "text/html": [
       "<div>\n",
       "<style scoped>\n",
       "    .dataframe tbody tr th:only-of-type {\n",
       "        vertical-align: middle;\n",
       "    }\n",
       "\n",
       "    .dataframe tbody tr th {\n",
       "        vertical-align: top;\n",
       "    }\n",
       "\n",
       "    .dataframe thead th {\n",
       "        text-align: right;\n",
       "    }\n",
       "</style>\n",
       "<table border=\"1\" class=\"dataframe\">\n",
       "  <thead>\n",
       "    <tr style=\"text-align: right;\">\n",
       "      <th></th>\n",
       "      <th>team_short_name</th>\n",
       "      <th>team_long_name</th>\n",
       "      <th>team_long_name_uppercase</th>\n",
       "    </tr>\n",
       "  </thead>\n",
       "  <tbody>\n",
       "    <tr>\n",
       "      <th>0</th>\n",
       "      <td>ARG</td>\n",
       "      <td>Argentina</td>\n",
       "      <td>ARGENTINA</td>\n",
       "    </tr>\n",
       "    <tr>\n",
       "      <th>1</th>\n",
       "      <td>AUS</td>\n",
       "      <td>Australia</td>\n",
       "      <td>AUSTRALIA</td>\n",
       "    </tr>\n",
       "    <tr>\n",
       "      <th>2</th>\n",
       "      <td>BEL</td>\n",
       "      <td>Belgium</td>\n",
       "      <td>BELGIUM</td>\n",
       "    </tr>\n",
       "    <tr>\n",
       "      <th>3</th>\n",
       "      <td>BRA</td>\n",
       "      <td>Brazil</td>\n",
       "      <td>BRAZIL</td>\n",
       "    </tr>\n",
       "    <tr>\n",
       "      <th>4</th>\n",
       "      <td>CMR</td>\n",
       "      <td>Cameroon</td>\n",
       "      <td>CAMEROON</td>\n",
       "    </tr>\n",
       "    <tr>\n",
       "      <th>5</th>\n",
       "      <td>CAN</td>\n",
       "      <td>Canada</td>\n",
       "      <td>CANADA</td>\n",
       "    </tr>\n",
       "    <tr>\n",
       "      <th>6</th>\n",
       "      <td>CRC</td>\n",
       "      <td>Costa Rica</td>\n",
       "      <td>COSTA RICA</td>\n",
       "    </tr>\n",
       "    <tr>\n",
       "      <th>7</th>\n",
       "      <td>CRO</td>\n",
       "      <td>Croatia</td>\n",
       "      <td>CROATIA</td>\n",
       "    </tr>\n",
       "    <tr>\n",
       "      <th>8</th>\n",
       "      <td>DEN</td>\n",
       "      <td>Denmark</td>\n",
       "      <td>DENMARK</td>\n",
       "    </tr>\n",
       "    <tr>\n",
       "      <th>9</th>\n",
       "      <td>ECU</td>\n",
       "      <td>Ecuador</td>\n",
       "      <td>ECUADOR</td>\n",
       "    </tr>\n",
       "    <tr>\n",
       "      <th>10</th>\n",
       "      <td>ENG</td>\n",
       "      <td>England</td>\n",
       "      <td>ENGLAND</td>\n",
       "    </tr>\n",
       "    <tr>\n",
       "      <th>11</th>\n",
       "      <td>FRA</td>\n",
       "      <td>France</td>\n",
       "      <td>FRANCE</td>\n",
       "    </tr>\n",
       "    <tr>\n",
       "      <th>12</th>\n",
       "      <td>GER</td>\n",
       "      <td>Germany</td>\n",
       "      <td>GERMANY</td>\n",
       "    </tr>\n",
       "    <tr>\n",
       "      <th>13</th>\n",
       "      <td>GHA</td>\n",
       "      <td>Ghana</td>\n",
       "      <td>GHANA</td>\n",
       "    </tr>\n",
       "    <tr>\n",
       "      <th>14</th>\n",
       "      <td>IRN</td>\n",
       "      <td>Iran</td>\n",
       "      <td>IRAN</td>\n",
       "    </tr>\n",
       "    <tr>\n",
       "      <th>15</th>\n",
       "      <td>JPN</td>\n",
       "      <td>Japan</td>\n",
       "      <td>JAPAN</td>\n",
       "    </tr>\n",
       "    <tr>\n",
       "      <th>16</th>\n",
       "      <td>KOR</td>\n",
       "      <td>Korea Republic</td>\n",
       "      <td>KOREA REPUBLIC</td>\n",
       "    </tr>\n",
       "    <tr>\n",
       "      <th>17</th>\n",
       "      <td>MEX</td>\n",
       "      <td>Mexico</td>\n",
       "      <td>MEXICO</td>\n",
       "    </tr>\n",
       "    <tr>\n",
       "      <th>18</th>\n",
       "      <td>MAR</td>\n",
       "      <td>Morocco</td>\n",
       "      <td>MOROCCO</td>\n",
       "    </tr>\n",
       "    <tr>\n",
       "      <th>19</th>\n",
       "      <td>NED</td>\n",
       "      <td>Netherlands</td>\n",
       "      <td>NETHERLANDS</td>\n",
       "    </tr>\n",
       "    <tr>\n",
       "      <th>20</th>\n",
       "      <td>POL</td>\n",
       "      <td>Poland</td>\n",
       "      <td>POLAND</td>\n",
       "    </tr>\n",
       "    <tr>\n",
       "      <th>21</th>\n",
       "      <td>POR</td>\n",
       "      <td>Portugal</td>\n",
       "      <td>PORTUGAL</td>\n",
       "    </tr>\n",
       "    <tr>\n",
       "      <th>22</th>\n",
       "      <td>QAT</td>\n",
       "      <td>Qatar</td>\n",
       "      <td>QATAR</td>\n",
       "    </tr>\n",
       "    <tr>\n",
       "      <th>23</th>\n",
       "      <td>KSA</td>\n",
       "      <td>Saudi Arabia</td>\n",
       "      <td>SAUDI ARABIA</td>\n",
       "    </tr>\n",
       "    <tr>\n",
       "      <th>24</th>\n",
       "      <td>SEN</td>\n",
       "      <td>Senegal</td>\n",
       "      <td>SENEGAL</td>\n",
       "    </tr>\n",
       "    <tr>\n",
       "      <th>25</th>\n",
       "      <td>SRB</td>\n",
       "      <td>Serbia</td>\n",
       "      <td>SERBIA</td>\n",
       "    </tr>\n",
       "    <tr>\n",
       "      <th>26</th>\n",
       "      <td>ESP</td>\n",
       "      <td>Spain</td>\n",
       "      <td>SPAIN</td>\n",
       "    </tr>\n",
       "    <tr>\n",
       "      <th>27</th>\n",
       "      <td>SUI</td>\n",
       "      <td>Switzerland</td>\n",
       "      <td>SWITZERLAND</td>\n",
       "    </tr>\n",
       "    <tr>\n",
       "      <th>28</th>\n",
       "      <td>TUN</td>\n",
       "      <td>Tunisia</td>\n",
       "      <td>TUNISIA</td>\n",
       "    </tr>\n",
       "    <tr>\n",
       "      <th>29</th>\n",
       "      <td>USA</td>\n",
       "      <td>United States</td>\n",
       "      <td>UNITED STATES</td>\n",
       "    </tr>\n",
       "    <tr>\n",
       "      <th>30</th>\n",
       "      <td>URU</td>\n",
       "      <td>Uruguay</td>\n",
       "      <td>URUGUAY</td>\n",
       "    </tr>\n",
       "    <tr>\n",
       "      <th>31</th>\n",
       "      <td>WAL</td>\n",
       "      <td>Wales</td>\n",
       "      <td>WALES</td>\n",
       "    </tr>\n",
       "  </tbody>\n",
       "</table>\n",
       "</div>"
      ],
      "text/plain": [
       "   team_short_name  team_long_name team_long_name_uppercase\n",
       "0              ARG       Argentina                ARGENTINA\n",
       "1              AUS       Australia                AUSTRALIA\n",
       "2              BEL         Belgium                  BELGIUM\n",
       "3              BRA          Brazil                   BRAZIL\n",
       "4              CMR        Cameroon                 CAMEROON\n",
       "5              CAN          Canada                   CANADA\n",
       "6              CRC      Costa Rica               COSTA RICA\n",
       "7              CRO         Croatia                  CROATIA\n",
       "8              DEN         Denmark                  DENMARK\n",
       "9              ECU         Ecuador                  ECUADOR\n",
       "10             ENG         England                  ENGLAND\n",
       "11             FRA          France                   FRANCE\n",
       "12             GER         Germany                  GERMANY\n",
       "13             GHA           Ghana                    GHANA\n",
       "14             IRN            Iran                     IRAN\n",
       "15             JPN           Japan                    JAPAN\n",
       "16             KOR  Korea Republic           KOREA REPUBLIC\n",
       "17             MEX          Mexico                   MEXICO\n",
       "18             MAR         Morocco                  MOROCCO\n",
       "19             NED     Netherlands              NETHERLANDS\n",
       "20             POL          Poland                   POLAND\n",
       "21             POR        Portugal                 PORTUGAL\n",
       "22             QAT           Qatar                    QATAR\n",
       "23             KSA    Saudi Arabia             SAUDI ARABIA\n",
       "24             SEN         Senegal                  SENEGAL\n",
       "25             SRB          Serbia                   SERBIA\n",
       "26             ESP           Spain                    SPAIN\n",
       "27             SUI     Switzerland              SWITZERLAND\n",
       "28             TUN         Tunisia                  TUNISIA\n",
       "29             USA   United States            UNITED STATES\n",
       "30             URU         Uruguay                  URUGUAY\n",
       "31             WAL           Wales                    WALES"
      ]
     },
     "execution_count": 12,
     "metadata": {},
     "output_type": "execute_result"
    }
   ],
   "source": [
    "#FIFA_teams_website = \"https://www.fifa.com/fifaplus/en/tournaments/mens/worldcup/qatar2022/teams\"\n",
    "#driver.get(FIFA_teams_website)\n",
    "\n",
    "teams0_short_names = WebDriverWait(driver, delay).until(\n",
    "                EC.presence_of_all_elements_located((By.CLASS_NAME, \n",
    "                \"flag-with-info_flagAbbr__Dn4Ab\")))\n",
    "\n",
    "teams0_short_names1 = []\n",
    "for i in range(len(teams0_short_names)):\n",
    "    teams0_short_names1.append(teams0_short_names[i].text)\n",
    "    \n",
    "\n",
    "\n",
    "teams0_long_names = WebDriverWait(driver, delay).until(\n",
    "                EC.presence_of_all_elements_located((By.CLASS_NAME, \n",
    "                \"flag-with-info_flagCountry__Yw8QR\")))\n",
    "\n",
    "teams0_long_names1 = []\n",
    "for i in range(len(teams0_long_names)):\n",
    "    teams0_long_names1.append(teams0_long_names[i].text)\n",
    "    \n",
    "    \n",
    "df_team_names = pd.DataFrame(teams0_short_names1,\n",
    "                            columns=['team_short_name'])\n",
    "df_team_names['team_short_name'] = df_team_names['team_short_name'].str[1:-1]\n",
    "df_team_names['team_long_name'] = teams0_long_names1\n",
    "df_team_names['team_long_name_uppercase'] = df_team_names['team_long_name'].str.upper()\n",
    "\n",
    "df_team_names"
   ]
  },
  {
   "cell_type": "markdown",
   "id": "bea2bd11-a9be-44b1-927e-b8d4271ff75f",
   "metadata": {},
   "source": [
    "## FIFA - Men's Ranking"
   ]
  },
  {
   "cell_type": "code",
   "execution_count": 13,
   "id": "f4a9f813-84ee-4176-a020-70dc5179b4b7",
   "metadata": {},
   "outputs": [],
   "source": [
    "men_ranking_website_url = \"https://www.fifa.com/fifa-world-ranking/men?dateId=id13869\"\n",
    "driver.get(men_ranking_website_url)\n",
    "\n",
    "time.sleep(2)\n",
    "try:\n",
    "    cookies0 = driver.find_element(By.ID, 'onetrust-reject-all-handler')\n",
    "    cookies0.click()\n",
    "except:\n",
    "    pass\n",
    "time.sleep(5)"
   ]
  },
  {
   "cell_type": "code",
   "execution_count": 14,
   "id": "299aa482-f102-406e-9fb3-99a0e86c7897",
   "metadata": {},
   "outputs": [],
   "source": [
    "dropdown_menu = \"/html/body/div[1]/div/div[3]/main/section[1]/div/div/div[1]/div[2]/div/button/div\"\n",
    "\n",
    "option_22_Dec_2022 = \"/html/body/div[1]/div/div[3]/main/section[1]/div/div/div[1]/div[2]/div/div/button[1]/div\"\n",
    "option_06_Oct_2022 = \"/html/body/div[1]/div/div[3]/main/section[1]/div/div/div[1]/div[2]/div/div/button[2]\""
   ]
  },
  {
   "cell_type": "markdown",
   "id": "649598e3-c2c0-48e1-9cd3-127e01239715",
   "metadata": {},
   "source": [
    "### 22 Dec 2022"
   ]
  },
  {
   "cell_type": "code",
   "execution_count": 15,
   "id": "0d21b87a-cf6a-4b2c-8747-4f03ac7fb821",
   "metadata": {},
   "outputs": [],
   "source": [
    "sel = driver.find_element(By.XPATH, dropdown_menu).click()\n",
    "sel1 = driver.find_element(By.XPATH, option_22_Dec_2022).click()\n",
    "\n",
    "time.sleep(5)"
   ]
  },
  {
   "cell_type": "code",
   "execution_count": 16,
   "id": "8955488f-004f-40c6-bc9b-f54e51995798",
   "metadata": {},
   "outputs": [
    {
     "data": {
      "text/plain": [
       "['RK', 'Team', 'Total Points', 'Previous Points', '+/-']"
      ]
     },
     "execution_count": 16,
     "metadata": {},
     "output_type": "execute_result"
    }
   ],
   "source": [
    "xpath_table000_header = \"/html/body/div[1]/div/div[3]/main/section[2]/div/div/div[1]/table/thead/tr\"\n",
    "xpath_table010_header = driver.find_element(By.XPATH, xpath_table000_header)\n",
    "#for i in xpath_table01:\n",
    "    #print(i.text)\n",
    "    \n",
    "table_header00 = xpath_table010_header.text.split('\\n')[:-1]\n",
    "table_header00"
   ]
  },
  {
   "cell_type": "code",
   "execution_count": 18,
   "id": "6952a233-a0c7-4688-aed5-99ff72443226",
   "metadata": {},
   "outputs": [],
   "source": [
    "right_arrow_button_XPATH = \"html/body/div[1]/div/div[3]/main/section[2]/div/div/div[2]/div/div/div/div/div[3]/div/button\"\n",
    "\n",
    "xpath_table00 = \"row_rankingTableFullRow__Y_A4i \"\n",
    "row_df_list = []\n",
    "\n",
    "for pp in range(4):\n",
    "    xpath_table01 = driver.find_elements(By.CLASS_NAME, xpath_table00)\n",
    "\n",
    "    for z in xpath_table01:\n",
    "        row_table_ranking = z.text.split(\"\\n\")\n",
    "\n",
    "        if \" \" in row_table_ranking[-1]:\n",
    "            ww = row_table_ranking[-1].split(\" \")\n",
    "            row_table_ranking2 = row_table_ranking[:-1]\n",
    "            row_table_ranking3 = row_table_ranking2 + ww\n",
    "        df_row000 = pd.DataFrame(row_table_ranking3\n",
    "                            ,columns=['values']\n",
    "                            )\n",
    "        df_row000['index'] = table_header00\n",
    "        df_row000 = df_row000.set_index('index').T.reset_index(drop=True)\n",
    "        row_df_list.append(df_row000)\n",
    "    \n",
    "    right_arrow_button_click = driver.find_element(By.XPATH, \n",
    "                                                   right_arrow_button_XPATH).click()\n",
    "    time.sleep(5)\n",
    "    \n",
    "\n",
    "\n",
    "row_df01 = pd.concat(row_df_list, ignore_index=True)"
   ]
  },
  {
   "cell_type": "code",
   "execution_count": 19,
   "id": "50e27fde-0277-4617-b0dd-e8ba5e68bc82",
   "metadata": {},
   "outputs": [],
   "source": [
    "if 'USA' in list(row_df01['Team'].values):\n",
    "    row_df01['Team'] = row_df01['Team'].replace(['USA'], 'United States')\n",
    "if 'IR Iran' in list(row_df01['Team'].values):\n",
    "    row_df01['Team'] = row_df01['Team'].replace(['IR Iran'], 'Iran')"
   ]
  },
  {
   "cell_type": "code",
   "execution_count": 20,
   "id": "56cdadd9-2c36-4cbf-a22d-8147a9585dae",
   "metadata": {},
   "outputs": [
    {
     "data": {
      "text/html": [
       "<div>\n",
       "<style scoped>\n",
       "    .dataframe tbody tr th:only-of-type {\n",
       "        vertical-align: middle;\n",
       "    }\n",
       "\n",
       "    .dataframe tbody tr th {\n",
       "        vertical-align: top;\n",
       "    }\n",
       "\n",
       "    .dataframe thead th {\n",
       "        text-align: right;\n",
       "    }\n",
       "</style>\n",
       "<table border=\"1\" class=\"dataframe\">\n",
       "  <thead>\n",
       "    <tr style=\"text-align: right;\">\n",
       "      <th>index</th>\n",
       "      <th>RK</th>\n",
       "      <th>Team</th>\n",
       "      <th>Total Points</th>\n",
       "      <th>Previous Points</th>\n",
       "      <th>+/-</th>\n",
       "    </tr>\n",
       "  </thead>\n",
       "  <tbody>\n",
       "    <tr>\n",
       "      <th>0</th>\n",
       "      <td>1</td>\n",
       "      <td>Brazil</td>\n",
       "      <td>1840.77</td>\n",
       "      <td>1841.3</td>\n",
       "      <td>-0.53</td>\n",
       "    </tr>\n",
       "    <tr>\n",
       "      <th>1</th>\n",
       "      <td>2</td>\n",
       "      <td>Argentina</td>\n",
       "      <td>1838.38</td>\n",
       "      <td>1773.88</td>\n",
       "      <td>64.50</td>\n",
       "    </tr>\n",
       "    <tr>\n",
       "      <th>2</th>\n",
       "      <td>3</td>\n",
       "      <td>France</td>\n",
       "      <td>1823.39</td>\n",
       "      <td>1759.78</td>\n",
       "      <td>63.61</td>\n",
       "    </tr>\n",
       "    <tr>\n",
       "      <th>3</th>\n",
       "      <td>4</td>\n",
       "      <td>Belgium</td>\n",
       "      <td>1781.3</td>\n",
       "      <td>1816.71</td>\n",
       "      <td>-35.41</td>\n",
       "    </tr>\n",
       "    <tr>\n",
       "      <th>4</th>\n",
       "      <td>5</td>\n",
       "      <td>England</td>\n",
       "      <td>1774.19</td>\n",
       "      <td>1728.47</td>\n",
       "      <td>45.72</td>\n",
       "    </tr>\n",
       "  </tbody>\n",
       "</table>\n",
       "</div>"
      ],
      "text/plain": [
       "index RK       Team Total Points Previous Points     +/-\n",
       "0      1     Brazil      1840.77          1841.3   -0.53\n",
       "1      2  Argentina      1838.38         1773.88   64.50\n",
       "2      3     France      1823.39         1759.78   63.61\n",
       "3      4    Belgium       1781.3         1816.71  -35.41\n",
       "4      5    England      1774.19         1728.47   45.72"
      ]
     },
     "execution_count": 20,
     "metadata": {},
     "output_type": "execute_result"
    }
   ],
   "source": [
    "row_df01.head()"
   ]
  },
  {
   "cell_type": "code",
   "execution_count": 21,
   "id": "5ea85545-dc9c-4cfd-a1f2-b3d54fdc48ed",
   "metadata": {},
   "outputs": [
    {
     "data": {
      "text/html": [
       "<div>\n",
       "<style scoped>\n",
       "    .dataframe tbody tr th:only-of-type {\n",
       "        vertical-align: middle;\n",
       "    }\n",
       "\n",
       "    .dataframe tbody tr th {\n",
       "        vertical-align: top;\n",
       "    }\n",
       "\n",
       "    .dataframe thead th {\n",
       "        text-align: right;\n",
       "    }\n",
       "</style>\n",
       "<table border=\"1\" class=\"dataframe\">\n",
       "  <thead>\n",
       "    <tr style=\"text-align: right;\">\n",
       "      <th>index</th>\n",
       "      <th>RK</th>\n",
       "      <th>Team</th>\n",
       "      <th>Total Points</th>\n",
       "      <th>Previous Points</th>\n",
       "      <th>+/-</th>\n",
       "    </tr>\n",
       "  </thead>\n",
       "  <tbody>\n",
       "    <tr>\n",
       "      <th>195</th>\n",
       "      <td>196</td>\n",
       "      <td>Tonga</td>\n",
       "      <td>861.81</td>\n",
       "      <td>861.81</td>\n",
       "      <td>0.00</td>\n",
       "    </tr>\n",
       "    <tr>\n",
       "      <th>196</th>\n",
       "      <td>197</td>\n",
       "      <td>Timor-Leste</td>\n",
       "      <td>860.45</td>\n",
       "      <td>860.06</td>\n",
       "      <td>0.39</td>\n",
       "    </tr>\n",
       "    <tr>\n",
       "      <th>197</th>\n",
       "      <td>198</td>\n",
       "      <td>Liechtenstein</td>\n",
       "      <td>859.84</td>\n",
       "      <td>862.39</td>\n",
       "      <td>-2.55</td>\n",
       "    </tr>\n",
       "    <tr>\n",
       "      <th>198</th>\n",
       "      <td>199</td>\n",
       "      <td>Seychelles</td>\n",
       "      <td>859.56</td>\n",
       "      <td>859.56</td>\n",
       "      <td>0.00</td>\n",
       "    </tr>\n",
       "    <tr>\n",
       "      <th>199</th>\n",
       "      <td>200</td>\n",
       "      <td>Gibraltar</td>\n",
       "      <td>858.04</td>\n",
       "      <td>852.16</td>\n",
       "      <td>5.88</td>\n",
       "    </tr>\n",
       "  </tbody>\n",
       "</table>\n",
       "</div>"
      ],
      "text/plain": [
       "index   RK           Team Total Points Previous Points    +/-\n",
       "195    196          Tonga       861.81          861.81   0.00\n",
       "196    197    Timor-Leste       860.45          860.06   0.39\n",
       "197    198  Liechtenstein       859.84          862.39  -2.55\n",
       "198    199     Seychelles       859.56          859.56   0.00\n",
       "199    200      Gibraltar       858.04          852.16   5.88"
      ]
     },
     "execution_count": 21,
     "metadata": {},
     "output_type": "execute_result"
    }
   ],
   "source": [
    "row_df01.tail()"
   ]
  },
  {
   "cell_type": "code",
   "execution_count": 22,
   "id": "081b4e0e-1d17-44bc-997c-9546a7664c4f",
   "metadata": {},
   "outputs": [
    {
     "data": {
      "text/plain": [
       "(200, 5)"
      ]
     },
     "execution_count": 22,
     "metadata": {},
     "output_type": "execute_result"
    }
   ],
   "source": [
    "row_df01.shape"
   ]
  },
  {
   "cell_type": "code",
   "execution_count": 23,
   "id": "c3c97226-bf01-4efc-bc34-9b221d0e9b26",
   "metadata": {},
   "outputs": [],
   "source": [
    "ranking_post_df0 = row_df01[['RK',\n",
    "                            'Team',\n",
    "                            'Total Points']].copy()"
   ]
  },
  {
   "cell_type": "raw",
   "id": "1df0fb01-e923-4339-8078-3de520d523b2",
   "metadata": {},
   "source": [
    "driver.quit()"
   ]
  },
  {
   "cell_type": "markdown",
   "id": "b893a8e1-45c4-4184-a915-df4e296564a9",
   "metadata": {},
   "source": [
    "### 6 Oct 2022"
   ]
  },
  {
   "cell_type": "code",
   "execution_count": 29,
   "id": "477db369-9af2-43d0-a72f-ac49ff5cfbe1",
   "metadata": {},
   "outputs": [],
   "source": [
    "men_ranking_website_url = \"https://www.fifa.com/fifa-world-ranking/men?dateId=id13869\"\n",
    "driver.get(men_ranking_website_url)\n",
    "\n",
    "time.sleep(2)\n",
    "try:\n",
    "    cookies0 = driver.find_element(By.ID, 'onetrust-reject-all-handler')\n",
    "    cookies0.click()\n",
    "except:\n",
    "    pass\n",
    "time.sleep(5)"
   ]
  },
  {
   "cell_type": "code",
   "execution_count": 30,
   "id": "79261ac3-b835-49eb-b3c2-eb420db393e9",
   "metadata": {},
   "outputs": [],
   "source": [
    "dropdown_menu = \"/html/body/div[1]/div/div[3]/main/section[1]/div/div/div[1]/div[2]/div/button/div\"\n",
    "\n",
    "option_22_Dec_2022 = \"/html/body/div[1]/div/div[3]/main/section[1]/div/div/div[1]/div[2]/div/div/button[1]/div\"\n",
    "option_06_Oct_2022 = \"/html/body/div[1]/div/div[3]/main/section[1]/div/div/div[1]/div[2]/div/div/button[2]\""
   ]
  },
  {
   "cell_type": "code",
   "execution_count": 31,
   "id": "ed307e0b-536b-48f7-a4dc-66fd01b824e0",
   "metadata": {},
   "outputs": [],
   "source": [
    "sel = driver.find_element(By.XPATH, dropdown_menu).click()\n",
    "sel1 = driver.find_element(By.XPATH, option_06_Oct_2022).click()\n",
    "\n",
    "time.sleep(5)"
   ]
  },
  {
   "cell_type": "code",
   "execution_count": 32,
   "id": "5f3c9751-5181-4af5-b7f4-785686af9b3a",
   "metadata": {},
   "outputs": [
    {
     "data": {
      "text/plain": [
       "['RK', 'Team', 'Total Points', 'Previous Points', '+/-']"
      ]
     },
     "execution_count": 32,
     "metadata": {},
     "output_type": "execute_result"
    }
   ],
   "source": [
    "xpath_table000_header = \"/html/body/div[1]/div/div[3]/main/section[2]/div/div/div[1]/table/thead/tr\"\n",
    "xpath_table010_header = driver.find_element(By.XPATH, xpath_table000_header)\n",
    "#for i in xpath_table01:\n",
    "    #print(i.text)\n",
    "    \n",
    "table_header00 = xpath_table010_header.text.split('\\n')[:-1]\n",
    "table_header00"
   ]
  },
  {
   "cell_type": "code",
   "execution_count": 36,
   "id": "341d23f5-1283-477b-83f0-f37af39b994a",
   "metadata": {},
   "outputs": [],
   "source": [
    "right_arrow_button_XPATH = \"html/body/div[1]/div/div[3]/main/section[2]/div/div/div[2]/div/div/div/div/div[3]/div/button\"\n",
    "\n",
    "xpath_table00 = \"row_rankingTableFullRow__Y_A4i \"\n",
    "row_df_list = []\n",
    "\n",
    "for pp in range(4):\n",
    "    xpath_table01 = driver.find_elements(By.CLASS_NAME, xpath_table00)\n",
    "\n",
    "    for z in xpath_table01:\n",
    "        row_table_ranking = z.text.split(\"\\n\")\n",
    "\n",
    "        if \" \" in row_table_ranking[-1]:\n",
    "            ww = row_table_ranking[-1].split(\" \")\n",
    "            row_table_ranking2 = row_table_ranking[:-1]\n",
    "            row_table_ranking3 = row_table_ranking2 + ww\n",
    "        df_row000 = pd.DataFrame(row_table_ranking3\n",
    "                            ,columns=['values']\n",
    "                            )\n",
    "        df_row000['index'] = table_header00\n",
    "        df_row000 = df_row000.set_index('index').T.reset_index(drop=True)\n",
    "        row_df_list.append(df_row000)\n",
    "    \n",
    "    right_arrow_button_click = driver.find_element(By.XPATH, \n",
    "                                                   right_arrow_button_XPATH).click()\n",
    "    time.sleep(5)\n",
    "    \n",
    "\n",
    "\n",
    "row_df01 = pd.concat(row_df_list, ignore_index=True)"
   ]
  },
  {
   "cell_type": "code",
   "execution_count": 37,
   "id": "100c0917-afbd-46b7-a776-d561bed3d5eb",
   "metadata": {},
   "outputs": [],
   "source": [
    "if 'USA' in list(row_df01['Team'].values):\n",
    "    row_df01['Team'] = row_df01['Team'].replace(['USA'], 'United States')\n",
    "if 'IR Iran' in list(row_df01['Team'].values):\n",
    "    row_df01['Team'] = row_df01['Team'].replace(['IR Iran'], 'Iran')"
   ]
  },
  {
   "cell_type": "code",
   "execution_count": 38,
   "id": "274262d3-b37b-43ba-9bd8-6132a684d46e",
   "metadata": {},
   "outputs": [
    {
     "data": {
      "text/html": [
       "<div>\n",
       "<style scoped>\n",
       "    .dataframe tbody tr th:only-of-type {\n",
       "        vertical-align: middle;\n",
       "    }\n",
       "\n",
       "    .dataframe tbody tr th {\n",
       "        vertical-align: top;\n",
       "    }\n",
       "\n",
       "    .dataframe thead th {\n",
       "        text-align: right;\n",
       "    }\n",
       "</style>\n",
       "<table border=\"1\" class=\"dataframe\">\n",
       "  <thead>\n",
       "    <tr style=\"text-align: right;\">\n",
       "      <th>index</th>\n",
       "      <th>RK</th>\n",
       "      <th>Team</th>\n",
       "      <th>Total Points</th>\n",
       "      <th>Previous Points</th>\n",
       "      <th>+/-</th>\n",
       "    </tr>\n",
       "  </thead>\n",
       "  <tbody>\n",
       "    <tr>\n",
       "      <th>0</th>\n",
       "      <td>1</td>\n",
       "      <td>Brazil</td>\n",
       "      <td>1841.3</td>\n",
       "      <td>1837.56</td>\n",
       "      <td>3.74</td>\n",
       "    </tr>\n",
       "    <tr>\n",
       "      <th>1</th>\n",
       "      <td>2</td>\n",
       "      <td>Belgium</td>\n",
       "      <td>1816.71</td>\n",
       "      <td>1821.92</td>\n",
       "      <td>-5.21</td>\n",
       "    </tr>\n",
       "    <tr>\n",
       "      <th>2</th>\n",
       "      <td>3</td>\n",
       "      <td>Argentina</td>\n",
       "      <td>1773.88</td>\n",
       "      <td>1770.65</td>\n",
       "      <td>3.23</td>\n",
       "    </tr>\n",
       "    <tr>\n",
       "      <th>3</th>\n",
       "      <td>4</td>\n",
       "      <td>France</td>\n",
       "      <td>1759.78</td>\n",
       "      <td>1764.85</td>\n",
       "      <td>-5.07</td>\n",
       "    </tr>\n",
       "    <tr>\n",
       "      <th>4</th>\n",
       "      <td>5</td>\n",
       "      <td>England</td>\n",
       "      <td>1728.47</td>\n",
       "      <td>1737.46</td>\n",
       "      <td>-8.99</td>\n",
       "    </tr>\n",
       "  </tbody>\n",
       "</table>\n",
       "</div>"
      ],
      "text/plain": [
       "index RK       Team Total Points Previous Points    +/-\n",
       "0      1     Brazil       1841.3         1837.56   3.74\n",
       "1      2    Belgium      1816.71         1821.92  -5.21\n",
       "2      3  Argentina      1773.88         1770.65   3.23\n",
       "3      4     France      1759.78         1764.85  -5.07\n",
       "4      5    England      1728.47         1737.46  -8.99"
      ]
     },
     "execution_count": 38,
     "metadata": {},
     "output_type": "execute_result"
    }
   ],
   "source": [
    "row_df01.head()"
   ]
  },
  {
   "cell_type": "code",
   "execution_count": 39,
   "id": "59b7825d-47c5-4c9d-ac1e-1fae472f89da",
   "metadata": {},
   "outputs": [
    {
     "data": {
      "text/html": [
       "<div>\n",
       "<style scoped>\n",
       "    .dataframe tbody tr th:only-of-type {\n",
       "        vertical-align: middle;\n",
       "    }\n",
       "\n",
       "    .dataframe tbody tr th {\n",
       "        vertical-align: top;\n",
       "    }\n",
       "\n",
       "    .dataframe thead th {\n",
       "        text-align: right;\n",
       "    }\n",
       "</style>\n",
       "<table border=\"1\" class=\"dataframe\">\n",
       "  <thead>\n",
       "    <tr style=\"text-align: right;\">\n",
       "      <th>index</th>\n",
       "      <th>RK</th>\n",
       "      <th>Team</th>\n",
       "      <th>Total Points</th>\n",
       "      <th>Previous Points</th>\n",
       "      <th>+/-</th>\n",
       "    </tr>\n",
       "  </thead>\n",
       "  <tbody>\n",
       "    <tr>\n",
       "      <th>195</th>\n",
       "      <td>196</td>\n",
       "      <td>Liechtenstein</td>\n",
       "      <td>862.39</td>\n",
       "      <td>873.99</td>\n",
       "      <td>-11.60</td>\n",
       "    </tr>\n",
       "    <tr>\n",
       "      <th>196</th>\n",
       "      <td>197</td>\n",
       "      <td>Tonga</td>\n",
       "      <td>861.81</td>\n",
       "      <td>861.81</td>\n",
       "      <td>0.00</td>\n",
       "    </tr>\n",
       "    <tr>\n",
       "      <th>197</th>\n",
       "      <td>198</td>\n",
       "      <td>Timor-Leste</td>\n",
       "      <td>860.06</td>\n",
       "      <td>860.06</td>\n",
       "      <td>0.00</td>\n",
       "    </tr>\n",
       "    <tr>\n",
       "      <th>198</th>\n",
       "      <td>199</td>\n",
       "      <td>Seychelles</td>\n",
       "      <td>859.56</td>\n",
       "      <td>860.48</td>\n",
       "      <td>-0.92</td>\n",
       "    </tr>\n",
       "    <tr>\n",
       "      <th>199</th>\n",
       "      <td>200</td>\n",
       "      <td>Eritrea</td>\n",
       "      <td>855.56</td>\n",
       "      <td>855.56</td>\n",
       "      <td>0.00</td>\n",
       "    </tr>\n",
       "  </tbody>\n",
       "</table>\n",
       "</div>"
      ],
      "text/plain": [
       "index   RK           Team Total Points Previous Points     +/-\n",
       "195    196  Liechtenstein       862.39          873.99  -11.60\n",
       "196    197          Tonga       861.81          861.81    0.00\n",
       "197    198    Timor-Leste       860.06          860.06    0.00\n",
       "198    199     Seychelles       859.56          860.48   -0.92\n",
       "199    200        Eritrea       855.56          855.56    0.00"
      ]
     },
     "execution_count": 39,
     "metadata": {},
     "output_type": "execute_result"
    }
   ],
   "source": [
    "row_df01.tail()"
   ]
  },
  {
   "cell_type": "code",
   "execution_count": 40,
   "id": "4efb8eec-ce4c-4093-a743-ab75cc8c6241",
   "metadata": {},
   "outputs": [
    {
     "data": {
      "text/plain": [
       "(200, 5)"
      ]
     },
     "execution_count": 40,
     "metadata": {},
     "output_type": "execute_result"
    }
   ],
   "source": [
    "row_df01.shape"
   ]
  },
  {
   "cell_type": "code",
   "execution_count": 41,
   "id": "dbeafeff-8430-4b43-8fd2-af26f8e5d4dd",
   "metadata": {},
   "outputs": [],
   "source": [
    "ranking_pre_df0 = row_df01[['RK',\n",
    "                            'Team',\n",
    "                            'Total Points']].copy()"
   ]
  },
  {
   "cell_type": "code",
   "execution_count": 42,
   "id": "0d4417f2-12c8-48c2-b6f5-40a2b63628a7",
   "metadata": {},
   "outputs": [],
   "source": [
    "ranking_pre_df0 = ranking_pre_df0.rename(\n",
    "                    columns={'RK':'Rank pre'\n",
    "                            ,'Total Points':'Previous Points'})\n",
    "\n",
    "ranking_post_df0 = ranking_post_df0.rename(\n",
    "                    columns={'RK':'Rank post'\n",
    "                            #,'Total Points':'Previous Points'\n",
    "                            })"
   ]
  },
  {
   "cell_type": "code",
   "execution_count": 43,
   "id": "350b31fe-6266-4128-999c-6142b9ed6f88",
   "metadata": {},
   "outputs": [],
   "source": [
    "driver.quit()"
   ]
  },
  {
   "cell_type": "markdown",
   "id": "86a12217-857e-4f37-8a82-0356eb03bb22",
   "metadata": {},
   "source": [
    "## Data Integration"
   ]
  },
  {
   "cell_type": "code",
   "execution_count": 44,
   "id": "bc750224-9fde-418e-90cf-39459b2c1249",
   "metadata": {},
   "outputs": [
    {
     "data": {
      "text/html": [
       "<div>\n",
       "<style scoped>\n",
       "    .dataframe tbody tr th:only-of-type {\n",
       "        vertical-align: middle;\n",
       "    }\n",
       "\n",
       "    .dataframe tbody tr th {\n",
       "        vertical-align: top;\n",
       "    }\n",
       "\n",
       "    .dataframe thead th {\n",
       "        text-align: right;\n",
       "    }\n",
       "</style>\n",
       "<table border=\"1\" class=\"dataframe\">\n",
       "  <thead>\n",
       "    <tr style=\"text-align: right;\">\n",
       "      <th></th>\n",
       "      <th>team_short_name</th>\n",
       "      <th>team_long_name</th>\n",
       "      <th>team_long_name_uppercase</th>\n",
       "    </tr>\n",
       "  </thead>\n",
       "  <tbody>\n",
       "    <tr>\n",
       "      <th>0</th>\n",
       "      <td>ARG</td>\n",
       "      <td>Argentina</td>\n",
       "      <td>ARGENTINA</td>\n",
       "    </tr>\n",
       "    <tr>\n",
       "      <th>1</th>\n",
       "      <td>AUS</td>\n",
       "      <td>Australia</td>\n",
       "      <td>AUSTRALIA</td>\n",
       "    </tr>\n",
       "  </tbody>\n",
       "</table>\n",
       "</div>"
      ],
      "text/plain": [
       "  team_short_name team_long_name team_long_name_uppercase\n",
       "0             ARG      Argentina                ARGENTINA\n",
       "1             AUS      Australia                AUSTRALIA"
      ]
     },
     "execution_count": 44,
     "metadata": {},
     "output_type": "execute_result"
    }
   ],
   "source": [
    "df_team_names.head(2)"
   ]
  },
  {
   "cell_type": "code",
   "execution_count": 45,
   "id": "1ce16ed2-6821-4c56-b39c-672a22b38927",
   "metadata": {},
   "outputs": [
    {
     "data": {
      "text/html": [
       "<div>\n",
       "<style scoped>\n",
       "    .dataframe tbody tr th:only-of-type {\n",
       "        vertical-align: middle;\n",
       "    }\n",
       "\n",
       "    .dataframe tbody tr th {\n",
       "        vertical-align: top;\n",
       "    }\n",
       "\n",
       "    .dataframe thead th {\n",
       "        text-align: right;\n",
       "    }\n",
       "</style>\n",
       "<table border=\"1\" class=\"dataframe\">\n",
       "  <thead>\n",
       "    <tr style=\"text-align: right;\">\n",
       "      <th></th>\n",
       "      <th>Rank pre</th>\n",
       "      <th>Rank post</th>\n",
       "      <th>Team</th>\n",
       "      <th>Previous Points</th>\n",
       "      <th>Total Points</th>\n",
       "    </tr>\n",
       "  </thead>\n",
       "  <tbody>\n",
       "    <tr>\n",
       "      <th>0</th>\n",
       "      <td>3</td>\n",
       "      <td>2</td>\n",
       "      <td>ARGENTINA</td>\n",
       "      <td>1773.88</td>\n",
       "      <td>1838.38</td>\n",
       "    </tr>\n",
       "    <tr>\n",
       "      <th>1</th>\n",
       "      <td>38</td>\n",
       "      <td>27</td>\n",
       "      <td>AUSTRALIA</td>\n",
       "      <td>1488.72</td>\n",
       "      <td>1533.97</td>\n",
       "    </tr>\n",
       "  </tbody>\n",
       "</table>\n",
       "</div>"
      ],
      "text/plain": [
       "  Rank pre Rank post       Team Previous Points Total Points\n",
       "0        3         2  ARGENTINA         1773.88      1838.38\n",
       "1       38        27  AUSTRALIA         1488.72      1533.97"
      ]
     },
     "execution_count": 45,
     "metadata": {},
     "output_type": "execute_result"
    }
   ],
   "source": [
    "df_team_names1 = pd.merge(df_team_names,\n",
    "                         ranking_pre_df0,\n",
    "                         how='left',\n",
    "                         left_on='team_long_name',\n",
    "                          right_on='Team'\n",
    "                         )[['Rank pre',\n",
    "                            'Team',\n",
    "                            'team_long_name_uppercase',\n",
    "                            'Previous Points']]\n",
    "\n",
    "df_team_names1 = pd.merge(df_team_names1,\n",
    "                         ranking_post_df0,\n",
    "                         how='left',\n",
    "                          on='Team'\n",
    "                         )[['Rank pre',\n",
    "                            'Rank post',\n",
    "                            'team_long_name_uppercase',\n",
    "                            'Previous Points',\n",
    "                            'Total Points']].rename(\n",
    "                                columns={'team_long_name_uppercase':'Team'})\n",
    "\n",
    "df_team_names1.head(2)"
   ]
  },
  {
   "cell_type": "code",
   "execution_count": 46,
   "id": "687714c0-fe27-44ec-9cb2-57844eb13c86",
   "metadata": {},
   "outputs": [
    {
     "data": {
      "text/plain": [
       "(32, 5)"
      ]
     },
     "execution_count": 46,
     "metadata": {},
     "output_type": "execute_result"
    }
   ],
   "source": [
    "df_team_names1.shape"
   ]
  },
  {
   "cell_type": "code",
   "execution_count": 47,
   "id": "343aceb8-9db9-4282-9550-f7335343b0a0",
   "metadata": {},
   "outputs": [],
   "source": [
    "ranking = df_team_names1.copy()"
   ]
  },
  {
   "cell_type": "markdown",
   "id": "65796775",
   "metadata": {},
   "source": [
    "# import su mongo"
   ]
  },
  {
   "cell_type": "code",
   "execution_count": 8,
   "id": "859b17df",
   "metadata": {},
   "outputs": [
    {
     "data": {
      "text/plain": [
       "[{'Rank pre': 3,\n",
       "  'Rank post': 2,\n",
       "  'Team': 'ARGENTINA',\n",
       "  'Previous Points': 1773.88,\n",
       "  'Total Points': 1838.38},\n",
       " {'Rank pre': 38,\n",
       "  'Rank post': 27,\n",
       "  'Team': 'AUSTRALIA',\n",
       "  'Previous Points': 1488.72,\n",
       "  'Total Points': 1533.97},\n",
       " {'Rank pre': 2,\n",
       "  'Rank post': 4,\n",
       "  'Team': 'BELGIUM',\n",
       "  'Previous Points': 1816.71,\n",
       "  'Total Points': 1781.3},\n",
       " {'Rank pre': 1,\n",
       "  'Rank post': 1,\n",
       "  'Team': 'BRAZIL',\n",
       "  'Previous Points': 1841.3,\n",
       "  'Total Points': 1840.77},\n",
       " {'Rank pre': 43,\n",
       "  'Rank post': 33,\n",
       "  'Team': 'CAMEROON',\n",
       "  'Previous Points': 1471.44,\n",
       "  'Total Points': 1499.3},\n",
       " {'Rank pre': 41,\n",
       "  'Rank post': 53,\n",
       "  'Team': 'CANADA',\n",
       "  'Previous Points': 1475.0,\n",
       "  'Total Points': 1431.64},\n",
       " {'Rank pre': 31,\n",
       "  'Rank post': 32,\n",
       "  'Team': 'COSTA RICA',\n",
       "  'Previous Points': 1503.59,\n",
       "  'Total Points': 1500.18},\n",
       " {'Rank pre': 12,\n",
       "  'Rank post': 7,\n",
       "  'Team': 'CROATIA',\n",
       "  'Previous Points': 1645.64,\n",
       "  'Total Points': 1727.62},\n",
       " {'Rank pre': 10,\n",
       "  'Rank post': 18,\n",
       "  'Team': 'DENMARK',\n",
       "  'Previous Points': 1666.57,\n",
       "  'Total Points': 1608.11},\n",
       " {'Rank pre': 44,\n",
       "  'Rank post': 41,\n",
       "  'Team': 'ECUADOR',\n",
       "  'Previous Points': 1464.39,\n",
       "  'Total Points': 1477.32},\n",
       " {'Rank pre': 5,\n",
       "  'Rank post': 5,\n",
       "  'Team': 'ENGLAND',\n",
       "  'Previous Points': 1728.47,\n",
       "  'Total Points': 1774.19},\n",
       " {'Rank pre': 4,\n",
       "  'Rank post': 3,\n",
       "  'Team': 'FRANCE',\n",
       "  'Previous Points': 1759.78,\n",
       "  'Total Points': 1823.39},\n",
       " {'Rank pre': 11,\n",
       "  'Rank post': 14,\n",
       "  'Team': 'GERMANY',\n",
       "  'Previous Points': 1650.21,\n",
       "  'Total Points': 1646.91},\n",
       " {'Rank pre': 61,\n",
       "  'Rank post': 58,\n",
       "  'Team': 'GHANA',\n",
       "  'Previous Points': 1393.0,\n",
       "  'Total Points': 1400.02},\n",
       " {'Rank pre': 20,\n",
       "  'Rank post': 24,\n",
       "  'Team': 'IRAN',\n",
       "  'Previous Points': 1564.61,\n",
       "  'Total Points': 1551.73},\n",
       " {'Rank pre': 24,\n",
       "  'Rank post': 20,\n",
       "  'Team': 'JAPAN',\n",
       "  'Previous Points': 1559.54,\n",
       "  'Total Points': 1593.08},\n",
       " {'Rank pre': 28,\n",
       "  'Rank post': 25,\n",
       "  'Team': 'KOREA REPUBLIC',\n",
       "  'Previous Points': 1530.3,\n",
       "  'Total Points': 1539.49},\n",
       " {'Rank pre': 13,\n",
       "  'Rank post': 15,\n",
       "  'Team': 'MEXICO',\n",
       "  'Previous Points': 1644.89,\n",
       "  'Total Points': 1635.78},\n",
       " {'Rank pre': 22,\n",
       "  'Rank post': 11,\n",
       "  'Team': 'MOROCCO',\n",
       "  'Previous Points': 1563.5,\n",
       "  'Total Points': 1672.35},\n",
       " {'Rank pre': 8,\n",
       "  'Rank post': 6,\n",
       "  'Team': 'NETHERLANDS',\n",
       "  'Previous Points': 1694.51,\n",
       "  'Total Points': 1740.92},\n",
       " {'Rank pre': 26,\n",
       "  'Rank post': 22,\n",
       "  'Team': 'POLAND',\n",
       "  'Previous Points': 1548.59,\n",
       "  'Total Points': 1559.83},\n",
       " {'Rank pre': 9,\n",
       "  'Rank post': 9,\n",
       "  'Team': 'PORTUGAL',\n",
       "  'Previous Points': 1676.56,\n",
       "  'Total Points': 1702.54},\n",
       " {'Rank pre': 50,\n",
       "  'Rank post': 60,\n",
       "  'Team': 'QATAR',\n",
       "  'Previous Points': 1439.89,\n",
       "  'Total Points': 1393.56},\n",
       " {'Rank pre': 51,\n",
       "  'Rank post': 49,\n",
       "  'Team': 'SAUDI ARABIA',\n",
       "  'Previous Points': 1437.78,\n",
       "  'Total Points': 1438.13},\n",
       " {'Rank pre': 18,\n",
       "  'Rank post': 19,\n",
       "  'Team': 'SENEGAL',\n",
       "  'Previous Points': 1584.38,\n",
       "  'Total Points': 1603.98},\n",
       " {'Rank pre': 21,\n",
       "  'Rank post': 29,\n",
       "  'Team': 'SERBIA',\n",
       "  'Previous Points': 1563.62,\n",
       "  'Total Points': 1526.46},\n",
       " {'Rank pre': 7,\n",
       "  'Rank post': 10,\n",
       "  'Team': 'SPAIN',\n",
       "  'Previous Points': 1715.22,\n",
       "  'Total Points': 1692.71},\n",
       " {'Rank pre': 15,\n",
       "  'Rank post': 12,\n",
       "  'Team': 'SWITZERLAND',\n",
       "  'Previous Points': 1635.92,\n",
       "  'Total Points': 1655.02},\n",
       " {'Rank pre': 30,\n",
       "  'Rank post': 30,\n",
       "  'Team': 'TUNISIA',\n",
       "  'Previous Points': 1507.54,\n",
       "  'Total Points': 1526.2},\n",
       " {'Rank pre': 16,\n",
       "  'Rank post': 13,\n",
       "  'Team': 'UNITED STATES',\n",
       "  'Previous Points': 1627.48,\n",
       "  'Total Points': 1652.74},\n",
       " {'Rank pre': 14,\n",
       "  'Rank post': 16,\n",
       "  'Team': 'URUGUAY',\n",
       "  'Previous Points': 1638.71,\n",
       "  'Total Points': 1627.45},\n",
       " {'Rank pre': 19,\n",
       "  'Rank post': 28,\n",
       "  'Team': 'WALES',\n",
       "  'Previous Points': 1569.82,\n",
       "  'Total Points': 1530.28}]"
      ]
     },
     "execution_count": 8,
     "metadata": {},
     "output_type": "execute_result"
    }
   ],
   "source": [
    "ranking_json=ranking.to_json(orient=\"records\")\n",
    "ranking_json = json.loads(ranking_json)\n",
    "json.dumps(ranking_json, indent=4)\n",
    "ranking_json\n"
   ]
  },
  {
   "cell_type": "code",
   "execution_count": 9,
   "id": "23b61ef2",
   "metadata": {},
   "outputs": [],
   "source": [
    "connessione = pymongo.MongoClient(\"mongodb://localhost:27017/\")#stabilisce una connessione\n",
    "WorldCupDb = connessione[\"WorldCup\"] #crea DB\n",
    "WorldCupCollection = WorldCupDb[\"WorldCupRanking\"] #crea collezione all'interno del db\n",
    "for i in range(0,len(ranking_json)):\n",
    "    inserimento = WorldCupCollection.insert_one(ranking_json[i])\n"
   ]
  },
  {
   "cell_type": "markdown",
   "id": "410da9d2-7d3c-43cb-b18c-7a7bc04d2da9",
   "metadata": {},
   "source": [
    "## Export Dataset in csv format"
   ]
  },
  {
   "cell_type": "code",
   "execution_count": 48,
   "id": "79bf9c79-96c2-4155-b35b-1285efd845d3",
   "metadata": {},
   "outputs": [],
   "source": [
    "ranking.to_csv(path_or_buf=os.path.join(\n",
    "                    path_download, 'FIFA_Rankings.csv')\n",
    "               ,sep=\";\"\n",
    "               ,header=True\n",
    "               ,index=False\n",
    "              )"
   ]
  }
 ],
 "metadata": {
  "kernelspec": {
   "display_name": "Python 3 (ipykernel)",
   "language": "python",
   "name": "python3"
  },
  "language_info": {
   "codemirror_mode": {
    "name": "ipython",
    "version": 3
   },
   "file_extension": ".py",
   "mimetype": "text/x-python",
   "name": "python",
   "nbconvert_exporter": "python",
   "pygments_lexer": "ipython3",
   "version": "3.9.13"
  }
 },
 "nbformat": 4,
 "nbformat_minor": 5
}
