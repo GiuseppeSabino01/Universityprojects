{
 "cells": [
  {
   "cell_type": "markdown",
   "id": "c9e8375c-6b4d-420f-bf12-d6fd15b38d8b",
   "metadata": {},
   "source": [
    "# FIFA World Cup 2022 - selenium scraper"
   ]
  },
  {
   "cell_type": "code",
   "execution_count": null,
   "id": "dbed56d9",
   "metadata": {},
   "outputs": [],
   "source": [
    "!pip install selenium==4.4.3"
   ]
  },
  {
   "cell_type": "code",
   "execution_count": null,
   "id": "5ca1e7a5",
   "metadata": {},
   "outputs": [],
   "source": [
    "!pip install pymongo"
   ]
  },
  {
   "cell_type": "code",
   "execution_count": 1,
   "id": "0e388609-a5ff-487e-88a8-cd82257c6a07",
   "metadata": {},
   "outputs": [],
   "source": [
    "import selenium\n",
    "from selenium import webdriver\n",
    "from selenium.webdriver.common.by import By\n",
    "from selenium.webdriver.support.ui import WebDriverWait\n",
    "from selenium.webdriver.support import expected_conditions as EC\n",
    "from selenium.common.exceptions import TimeoutException"
   ]
  },
  {
   "cell_type": "code",
   "execution_count": 2,
   "id": "7ad1dd30-a947-4169-92da-d6d842cf6036",
   "metadata": {},
   "outputs": [
    {
     "name": "stdout",
     "output_type": "stream",
     "text": [
      "4.4.3\n"
     ]
    }
   ],
   "source": [
    "print(selenium.__version__)"
   ]
  },
  {
   "cell_type": "code",
   "execution_count": 3,
   "id": "8ba371d0-97af-4478-a4b1-e07c3f9f8262",
   "metadata": {},
   "outputs": [],
   "source": [
    "import pandas as pd\n",
    "import numpy as np\n",
    "import json\n",
    "import os\n",
    "import tqdm\n",
    "import shutil\n",
    "import zipfile\n",
    "from zipfile import ZipFile\n",
    "import requests\n",
    "\n",
    "import datetime\n",
    "from datetime import datetime\n",
    "from datetime import date\n",
    "from tqdm import tqdm\n",
    "import time\n",
    "import warnings\n",
    "\n",
    "import pymongo\n",
    "from pymongo import MongoClient\n",
    "warnings.filterwarnings('ignore')"
   ]
  },
  {
   "cell_type": "code",
   "execution_count": 4,
   "id": "63a3f539-b4a4-4108-9a9a-ed2b5d41c4f7",
   "metadata": {},
   "outputs": [
    {
     "name": "stdout",
     "output_type": "stream",
     "text": [
      "https://www.fifa.com/fifaplus/en/tournaments/mens/worldcup/qatar2022/scores-fixtures?country=IT&wtw-filter=ALL\n"
     ]
    }
   ],
   "source": [
    "FIFA_homepage = 'https://www.fifa.com/fifaplus/en/tournaments/mens/worldcup/qatar2022/'\n",
    "FIFA_scores0 = 'scores-fixtures?country=IT&wtw-filter=ALL'\n",
    "FIFA_website = FIFA_homepage + FIFA_scores0\n",
    "print(FIFA_website)"
   ]
  },
  {
   "cell_type": "code",
   "execution_count": 5,
   "id": "8ec920ab-8112-4da6-876d-307c0d727b98",
   "metadata": {},
   "outputs": [
    {
     "data": {
      "text/plain": [
       "'XXXXXXXXXXXXXXXXXXXX\\\\Desktop\\\\msedgedriver108\\\\msedgedriver'"
      ]
     },
     "execution_count": 5,
     "metadata": {},
     "output_type": "execute_result"
    }
   ],
   "source": [
    "first_path = r'XXXXXXXXXXXXXXXXXXXX'\n",
    "\n",
    "path_desktop0 = 'Desktop'\n",
    "path_download0 = 'Download'\n",
    "\n",
    "path_desktop = os.path.join(first_path, path_desktop0)\n",
    "path_download = os.path.join(first_path, path_download0)\n",
    "\n",
    "driver0 = os.path.join(path_desktop\n",
    "                       ,'msedgedriver108'\n",
    "                       ,'msedgedriver'\n",
    "                      )\n",
    "driver0"
   ]
  },
  {
   "cell_type": "code",
   "execution_count": 7,
   "id": "cbef3da9-dc8f-42b4-bf9b-f710f97643c1",
   "metadata": {},
   "outputs": [],
   "source": [
    "driver = webdriver.Edge(executable_path=driver0)"
   ]
  },
  {
   "cell_type": "code",
   "execution_count": 8,
   "id": "58308230-ec3e-4b6e-a5ae-bdae27ebcb11",
   "metadata": {},
   "outputs": [],
   "source": [
    "FIFA_teams_website = \"https://www.fifa.com/fifaplus/en/tournaments/mens/worldcup/qatar2022/teams\"\n",
    "driver.get(FIFA_teams_website)"
   ]
  },
  {
   "cell_type": "code",
   "execution_count": 9,
   "id": "cec683dc-aae5-4bb3-83fc-7975f74bcf5f",
   "metadata": {},
   "outputs": [],
   "source": [
    "time.sleep(3)"
   ]
  },
  {
   "cell_type": "markdown",
   "id": "a37e8d11-88d5-4efb-ac9d-b7444575ab13",
   "metadata": {},
   "source": [
    "## Reject all cookies"
   ]
  },
  {
   "cell_type": "code",
   "execution_count": 10,
   "id": "537d3655-0ca8-4788-83ae-8d22bf226a1f",
   "metadata": {},
   "outputs": [
    {
     "name": "stdout",
     "output_type": "stream",
     "text": [
      "no cookies pop-up\n"
     ]
    }
   ],
   "source": [
    "# cookies pop-up --> reject all cookies\n",
    "\n",
    "delay = 10 #seconds\n",
    "\n",
    "try:\n",
    "    cookies = WebDriverWait(driver, delay).until(\n",
    "                EC.presence_of_element_located((By.ID, \n",
    "                'onetrust-reject-all-handler'))).click()\n",
    "except TimeoutException:\n",
    "    print(\"no cookies pop-up\")"
   ]
  },
  {
   "cell_type": "code",
   "execution_count": 11,
   "id": "8365344e-5b09-4dd6-a06c-d8d17f281885",
   "metadata": {},
   "outputs": [],
   "source": [
    "time.sleep(3)"
   ]
  },
  {
   "cell_type": "markdown",
   "id": "d0065b21-371e-4be0-bd36-5fef858cbf57",
   "metadata": {},
   "source": [
    "## World Cup 2022 - Teams"
   ]
  },
  {
   "cell_type": "code",
   "execution_count": 12,
   "id": "061de2d5-3258-44c7-bb46-50f8fd62aa3d",
   "metadata": {},
   "outputs": [
    {
     "data": {
      "text/html": [
       "<div>\n",
       "<style scoped>\n",
       "    .dataframe tbody tr th:only-of-type {\n",
       "        vertical-align: middle;\n",
       "    }\n",
       "\n",
       "    .dataframe tbody tr th {\n",
       "        vertical-align: top;\n",
       "    }\n",
       "\n",
       "    .dataframe thead th {\n",
       "        text-align: right;\n",
       "    }\n",
       "</style>\n",
       "<table border=\"1\" class=\"dataframe\">\n",
       "  <thead>\n",
       "    <tr style=\"text-align: right;\">\n",
       "      <th></th>\n",
       "      <th>team_short_name</th>\n",
       "      <th>team_long_name</th>\n",
       "      <th>team_long_name_uppercase</th>\n",
       "    </tr>\n",
       "  </thead>\n",
       "  <tbody>\n",
       "    <tr>\n",
       "      <th>0</th>\n",
       "      <td>ARG</td>\n",
       "      <td>Argentina</td>\n",
       "      <td>ARGENTINA</td>\n",
       "    </tr>\n",
       "    <tr>\n",
       "      <th>1</th>\n",
       "      <td>AUS</td>\n",
       "      <td>Australia</td>\n",
       "      <td>AUSTRALIA</td>\n",
       "    </tr>\n",
       "    <tr>\n",
       "      <th>2</th>\n",
       "      <td>BEL</td>\n",
       "      <td>Belgium</td>\n",
       "      <td>BELGIUM</td>\n",
       "    </tr>\n",
       "    <tr>\n",
       "      <th>3</th>\n",
       "      <td>BRA</td>\n",
       "      <td>Brazil</td>\n",
       "      <td>BRAZIL</td>\n",
       "    </tr>\n",
       "    <tr>\n",
       "      <th>4</th>\n",
       "      <td>CMR</td>\n",
       "      <td>Cameroon</td>\n",
       "      <td>CAMEROON</td>\n",
       "    </tr>\n",
       "    <tr>\n",
       "      <th>5</th>\n",
       "      <td>CAN</td>\n",
       "      <td>Canada</td>\n",
       "      <td>CANADA</td>\n",
       "    </tr>\n",
       "    <tr>\n",
       "      <th>6</th>\n",
       "      <td>CRC</td>\n",
       "      <td>Costa Rica</td>\n",
       "      <td>COSTA RICA</td>\n",
       "    </tr>\n",
       "    <tr>\n",
       "      <th>7</th>\n",
       "      <td>CRO</td>\n",
       "      <td>Croatia</td>\n",
       "      <td>CROATIA</td>\n",
       "    </tr>\n",
       "    <tr>\n",
       "      <th>8</th>\n",
       "      <td>DEN</td>\n",
       "      <td>Denmark</td>\n",
       "      <td>DENMARK</td>\n",
       "    </tr>\n",
       "    <tr>\n",
       "      <th>9</th>\n",
       "      <td>ECU</td>\n",
       "      <td>Ecuador</td>\n",
       "      <td>ECUADOR</td>\n",
       "    </tr>\n",
       "    <tr>\n",
       "      <th>10</th>\n",
       "      <td>ENG</td>\n",
       "      <td>England</td>\n",
       "      <td>ENGLAND</td>\n",
       "    </tr>\n",
       "    <tr>\n",
       "      <th>11</th>\n",
       "      <td>FRA</td>\n",
       "      <td>France</td>\n",
       "      <td>FRANCE</td>\n",
       "    </tr>\n",
       "    <tr>\n",
       "      <th>12</th>\n",
       "      <td>GER</td>\n",
       "      <td>Germany</td>\n",
       "      <td>GERMANY</td>\n",
       "    </tr>\n",
       "    <tr>\n",
       "      <th>13</th>\n",
       "      <td>GHA</td>\n",
       "      <td>Ghana</td>\n",
       "      <td>GHANA</td>\n",
       "    </tr>\n",
       "    <tr>\n",
       "      <th>14</th>\n",
       "      <td>IRN</td>\n",
       "      <td>Iran</td>\n",
       "      <td>IRAN</td>\n",
       "    </tr>\n",
       "    <tr>\n",
       "      <th>15</th>\n",
       "      <td>JPN</td>\n",
       "      <td>Japan</td>\n",
       "      <td>JAPAN</td>\n",
       "    </tr>\n",
       "    <tr>\n",
       "      <th>16</th>\n",
       "      <td>KOR</td>\n",
       "      <td>Korea Republic</td>\n",
       "      <td>KOREA REPUBLIC</td>\n",
       "    </tr>\n",
       "    <tr>\n",
       "      <th>17</th>\n",
       "      <td>MEX</td>\n",
       "      <td>Mexico</td>\n",
       "      <td>MEXICO</td>\n",
       "    </tr>\n",
       "    <tr>\n",
       "      <th>18</th>\n",
       "      <td>MAR</td>\n",
       "      <td>Morocco</td>\n",
       "      <td>MOROCCO</td>\n",
       "    </tr>\n",
       "    <tr>\n",
       "      <th>19</th>\n",
       "      <td>NED</td>\n",
       "      <td>Netherlands</td>\n",
       "      <td>NETHERLANDS</td>\n",
       "    </tr>\n",
       "    <tr>\n",
       "      <th>20</th>\n",
       "      <td>POL</td>\n",
       "      <td>Poland</td>\n",
       "      <td>POLAND</td>\n",
       "    </tr>\n",
       "    <tr>\n",
       "      <th>21</th>\n",
       "      <td>POR</td>\n",
       "      <td>Portugal</td>\n",
       "      <td>PORTUGAL</td>\n",
       "    </tr>\n",
       "    <tr>\n",
       "      <th>22</th>\n",
       "      <td>QAT</td>\n",
       "      <td>Qatar</td>\n",
       "      <td>QATAR</td>\n",
       "    </tr>\n",
       "    <tr>\n",
       "      <th>23</th>\n",
       "      <td>KSA</td>\n",
       "      <td>Saudi Arabia</td>\n",
       "      <td>SAUDI ARABIA</td>\n",
       "    </tr>\n",
       "    <tr>\n",
       "      <th>24</th>\n",
       "      <td>SEN</td>\n",
       "      <td>Senegal</td>\n",
       "      <td>SENEGAL</td>\n",
       "    </tr>\n",
       "    <tr>\n",
       "      <th>25</th>\n",
       "      <td>SRB</td>\n",
       "      <td>Serbia</td>\n",
       "      <td>SERBIA</td>\n",
       "    </tr>\n",
       "    <tr>\n",
       "      <th>26</th>\n",
       "      <td>ESP</td>\n",
       "      <td>Spain</td>\n",
       "      <td>SPAIN</td>\n",
       "    </tr>\n",
       "    <tr>\n",
       "      <th>27</th>\n",
       "      <td>SUI</td>\n",
       "      <td>Switzerland</td>\n",
       "      <td>SWITZERLAND</td>\n",
       "    </tr>\n",
       "    <tr>\n",
       "      <th>28</th>\n",
       "      <td>TUN</td>\n",
       "      <td>Tunisia</td>\n",
       "      <td>TUNISIA</td>\n",
       "    </tr>\n",
       "    <tr>\n",
       "      <th>29</th>\n",
       "      <td>USA</td>\n",
       "      <td>United States</td>\n",
       "      <td>UNITED STATES</td>\n",
       "    </tr>\n",
       "    <tr>\n",
       "      <th>30</th>\n",
       "      <td>URU</td>\n",
       "      <td>Uruguay</td>\n",
       "      <td>URUGUAY</td>\n",
       "    </tr>\n",
       "    <tr>\n",
       "      <th>31</th>\n",
       "      <td>WAL</td>\n",
       "      <td>Wales</td>\n",
       "      <td>WALES</td>\n",
       "    </tr>\n",
       "  </tbody>\n",
       "</table>\n",
       "</div>"
      ],
      "text/plain": [
       "   team_short_name  team_long_name team_long_name_uppercase\n",
       "0              ARG       Argentina                ARGENTINA\n",
       "1              AUS       Australia                AUSTRALIA\n",
       "2              BEL         Belgium                  BELGIUM\n",
       "3              BRA          Brazil                   BRAZIL\n",
       "4              CMR        Cameroon                 CAMEROON\n",
       "5              CAN          Canada                   CANADA\n",
       "6              CRC      Costa Rica               COSTA RICA\n",
       "7              CRO         Croatia                  CROATIA\n",
       "8              DEN         Denmark                  DENMARK\n",
       "9              ECU         Ecuador                  ECUADOR\n",
       "10             ENG         England                  ENGLAND\n",
       "11             FRA          France                   FRANCE\n",
       "12             GER         Germany                  GERMANY\n",
       "13             GHA           Ghana                    GHANA\n",
       "14             IRN            Iran                     IRAN\n",
       "15             JPN           Japan                    JAPAN\n",
       "16             KOR  Korea Republic           KOREA REPUBLIC\n",
       "17             MEX          Mexico                   MEXICO\n",
       "18             MAR         Morocco                  MOROCCO\n",
       "19             NED     Netherlands              NETHERLANDS\n",
       "20             POL          Poland                   POLAND\n",
       "21             POR        Portugal                 PORTUGAL\n",
       "22             QAT           Qatar                    QATAR\n",
       "23             KSA    Saudi Arabia             SAUDI ARABIA\n",
       "24             SEN         Senegal                  SENEGAL\n",
       "25             SRB          Serbia                   SERBIA\n",
       "26             ESP           Spain                    SPAIN\n",
       "27             SUI     Switzerland              SWITZERLAND\n",
       "28             TUN         Tunisia                  TUNISIA\n",
       "29             USA   United States            UNITED STATES\n",
       "30             URU         Uruguay                  URUGUAY\n",
       "31             WAL           Wales                    WALES"
      ]
     },
     "execution_count": 12,
     "metadata": {},
     "output_type": "execute_result"
    }
   ],
   "source": [
    "#FIFA_teams_website = \"https://www.fifa.com/fifaplus/en/tournaments/mens/worldcup/qatar2022/teams\"\n",
    "#driver.get(FIFA_teams_website)\n",
    "\n",
    "teams0_short_names = WebDriverWait(driver, delay).until(\n",
    "                EC.presence_of_all_elements_located((By.CLASS_NAME, \n",
    "                \"flag-with-info_flagAbbr__Dn4Ab\")))\n",
    "\n",
    "teams0_short_names1 = []\n",
    "for i in range(len(teams0_short_names)):\n",
    "    teams0_short_names1.append(teams0_short_names[i].text)\n",
    "    \n",
    "\n",
    "\n",
    "teams0_long_names = WebDriverWait(driver, delay).until(\n",
    "                EC.presence_of_all_elements_located((By.CLASS_NAME, \n",
    "                \"flag-with-info_flagCountry__Yw8QR\")))\n",
    "\n",
    "teams0_long_names1 = []\n",
    "for i in range(len(teams0_long_names)):\n",
    "    teams0_long_names1.append(teams0_long_names[i].text)\n",
    "    \n",
    "    \n",
    "df_team_names = pd.DataFrame(teams0_short_names1,\n",
    "                            columns=['team_short_name'])\n",
    "df_team_names['team_short_name'] = df_team_names['team_short_name'].str[1:-1]\n",
    "df_team_names['team_long_name'] = teams0_long_names1\n",
    "df_team_names['team_long_name_uppercase'] = df_team_names['team_long_name'].str.upper()\n",
    "\n",
    "df_team_names"
   ]
  },
  {
   "cell_type": "markdown",
   "id": "e0a878e0-1549-481d-805e-c0770c29e6fb",
   "metadata": {},
   "source": [
    "## Let's collect the URL of every single game listed on the webpage"
   ]
  },
  {
   "cell_type": "code",
   "execution_count": 13,
   "id": "4128d890-b19d-4cb0-b9ac-5dfaf4d6a254",
   "metadata": {},
   "outputs": [],
   "source": [
    "driver.get(FIFA_website)"
   ]
  },
  {
   "cell_type": "code",
   "execution_count": 14,
   "id": "98abbebc-9392-4d3b-8c08-50404ac6faac",
   "metadata": {},
   "outputs": [],
   "source": [
    "time.sleep(5)"
   ]
  },
  {
   "cell_type": "code",
   "execution_count": 15,
   "id": "f8ff0317-9b51-458e-a754-ca8fd762b7cb",
   "metadata": {},
   "outputs": [],
   "source": [
    "# cookies pop-up --> reject all cookies\n",
    "\n",
    "delay = 10 #seconds\n",
    "\n",
    "try:\n",
    "    cookies = WebDriverWait(driver, delay).until(\n",
    "                EC.presence_of_element_located((By.ID, \n",
    "                'onetrust-reject-all-handler'))).click()\n",
    "except TimeoutException:\n",
    "    print(\"no cookies pop-up\")"
   ]
  },
  {
   "cell_type": "code",
   "execution_count": 16,
   "id": "1e37f8ef-d176-4cf7-8cb2-6ac534fbe4ee",
   "metadata": {},
   "outputs": [],
   "source": [
    "# all matches have the following URL in common\n",
    "# we will search for all the elements containing this URL and get a list of all the football games\n",
    "\n",
    "match_url0 = 'fifaplus/en/match-centre/match/17/255711/' #285063/'"
   ]
  },
  {
   "cell_type": "code",
   "execution_count": 17,
   "id": "d3960efd-a625-4ea3-bb01-1b984f42eeec",
   "metadata": {},
   "outputs": [
    {
     "data": {
      "text/plain": [
       "\"//a[contains(@href, 'fifaplus/en/match-centre/match/17/255711/')]\""
      ]
     },
     "execution_count": 17,
     "metadata": {},
     "output_type": "execute_result"
    }
   ],
   "source": [
    "match_url1 = \"//a[contains(@href, '{0}')]\".format(match_url0)\n",
    "match_url1"
   ]
  },
  {
   "cell_type": "code",
   "execution_count": 18,
   "id": "608dc309-ed7b-4cc7-b48e-105628fb499c",
   "metadata": {},
   "outputs": [
    {
     "name": "stdout",
     "output_type": "stream",
     "text": [
      "<class 'list'>\n",
      "\n",
      "number of games played during the tournament:  64\n"
     ]
    }
   ],
   "source": [
    "games_world_cup_2022_selenium_elements_list = WebDriverWait(driver, delay).until(\n",
    "                EC.presence_of_all_elements_located((By.XPATH, match_url1)))\n",
    "\n",
    "print(type(games_world_cup_2022_selenium_elements_list))\n",
    "print('')\n",
    "print('number of games played during the tournament: ',\n",
    "      len(games_world_cup_2022_selenium_elements_list)) #number of games played in the tournament"
   ]
  },
  {
   "cell_type": "raw",
   "id": "c1e0ae74-053a-4c5b-9447-f55b91117cb6",
   "metadata": {},
   "source": [
    "games_world_cup_2022_selenium_elements_list = driver.find_elements(By.XPATH, match_url1)\n",
    "print(type(games_world_cup_2022_selenium_elements_list))"
   ]
  },
  {
   "cell_type": "code",
   "execution_count": 19,
   "id": "de76538b-d04f-4a24-bb54-d8d419dcb54e",
   "metadata": {},
   "outputs": [
    {
     "name": "stderr",
     "output_type": "stream",
     "text": [
      "100%|██████████| 64/64 [00:00<00:00, 72.56it/s]\n"
     ]
    }
   ],
   "source": [
    "# the list 'games_world_cup_2022_URL_list' contains the list of URL of every football game\n",
    "\n",
    "games_world_cup_2022_URL_list = []\n",
    "\n",
    "for i in tqdm(range(len(games_world_cup_2022_selenium_elements_list))):\n",
    "    games_world_cup_2022_URL = games_world_cup_2022_selenium_elements_list[\n",
    "                                        i].get_attribute('href')\n",
    "    games_world_cup_2022_URL_list.append(games_world_cup_2022_URL)"
   ]
  },
  {
   "cell_type": "code",
   "execution_count": 20,
   "id": "aac653fd-7e31-4cab-af6e-9a5974aceb6b",
   "metadata": {},
   "outputs": [
    {
     "data": {
      "text/plain": [
       "True"
      ]
     },
     "execution_count": 20,
     "metadata": {},
     "output_type": "execute_result"
    }
   ],
   "source": [
    "len(games_world_cup_2022_URL_list) == len(games_world_cup_2022_selenium_elements_list)"
   ]
  },
  {
   "cell_type": "code",
   "execution_count": 21,
   "id": "66e44296-71b4-4416-89cf-3f2809b834e8",
   "metadata": {},
   "outputs": [
    {
     "data": {
      "text/plain": [
       "['https://www.fifa.com/fifaplus/en/match-centre/match/17/255711/285063/400128082',\n",
       " 'https://www.fifa.com/fifaplus/en/match-centre/match/17/255711/285063/400235458']"
      ]
     },
     "execution_count": 21,
     "metadata": {},
     "output_type": "execute_result"
    }
   ],
   "source": [
    "games_world_cup_2022_URL_list[0:2]"
   ]
  },
  {
   "cell_type": "code",
   "execution_count": 22,
   "id": "3066098e-d4e6-46f3-a678-fe28fc8bc238",
   "metadata": {},
   "outputs": [
    {
     "data": {
      "text/plain": [
       "['https://www.fifa.com/fifaplus/en/match-centre/match/17/255711/285074/400128138',\n",
       " 'https://www.fifa.com/fifaplus/en/match-centre/match/17/255711/285075/400128143',\n",
       " 'https://www.fifa.com/fifaplus/en/match-centre/match/17/255711/285075/400128142',\n",
       " 'https://www.fifa.com/fifaplus/en/match-centre/match/17/255711/285076/400128144',\n",
       " 'https://www.fifa.com/fifaplus/en/match-centre/match/17/255711/285077/400128145']"
      ]
     },
     "execution_count": 22,
     "metadata": {},
     "output_type": "execute_result"
    }
   ],
   "source": [
    "games_world_cup_2022_URL_list[-5:]"
   ]
  },
  {
   "cell_type": "code",
   "execution_count": 23,
   "id": "e550afd2-bb1d-4a53-a7cd-6abb242b38f8",
   "metadata": {},
   "outputs": [
    {
     "data": {
      "text/html": [
       "<div>\n",
       "<style scoped>\n",
       "    .dataframe tbody tr th:only-of-type {\n",
       "        vertical-align: middle;\n",
       "    }\n",
       "\n",
       "    .dataframe tbody tr th {\n",
       "        vertical-align: top;\n",
       "    }\n",
       "\n",
       "    .dataframe thead th {\n",
       "        text-align: right;\n",
       "    }\n",
       "</style>\n",
       "<table border=\"1\" class=\"dataframe\">\n",
       "  <thead>\n",
       "    <tr style=\"text-align: right;\">\n",
       "      <th></th>\n",
       "      <th>URL</th>\n",
       "      <th>ID_type_of_game</th>\n",
       "      <th>ID_game</th>\n",
       "    </tr>\n",
       "  </thead>\n",
       "  <tbody>\n",
       "    <tr>\n",
       "      <th>0</th>\n",
       "      <td>https://www.fifa.com/fifaplus/en/match-centre/...</td>\n",
       "      <td>285063</td>\n",
       "      <td>400128082</td>\n",
       "    </tr>\n",
       "    <tr>\n",
       "      <th>1</th>\n",
       "      <td>https://www.fifa.com/fifaplus/en/match-centre/...</td>\n",
       "      <td>285063</td>\n",
       "      <td>400235458</td>\n",
       "    </tr>\n",
       "    <tr>\n",
       "      <th>2</th>\n",
       "      <td>https://www.fifa.com/fifaplus/en/match-centre/...</td>\n",
       "      <td>285063</td>\n",
       "      <td>400235449</td>\n",
       "    </tr>\n",
       "  </tbody>\n",
       "</table>\n",
       "</div>"
      ],
      "text/plain": [
       "                                                 URL ID_type_of_game  \\\n",
       "0  https://www.fifa.com/fifaplus/en/match-centre/...          285063   \n",
       "1  https://www.fifa.com/fifaplus/en/match-centre/...          285063   \n",
       "2  https://www.fifa.com/fifaplus/en/match-centre/...          285063   \n",
       "\n",
       "     ID_game  \n",
       "0  400128082  \n",
       "1  400235458  \n",
       "2  400235449  "
      ]
     },
     "execution_count": 23,
     "metadata": {},
     "output_type": "execute_result"
    }
   ],
   "source": [
    "games_world_cup_2022_URL_df = pd.DataFrame(games_world_cup_2022_URL_list,\n",
    "                                          columns=['URL'])\n",
    "games_world_cup_2022_URL_df['ID_type_of_game'] = games_world_cup_2022_URL_df['URL'].apply(lambda x:x[62:68])\n",
    "games_world_cup_2022_URL_df['ID_game'] = games_world_cup_2022_URL_df['URL'].apply(lambda x:x[69:78])\n",
    "games_world_cup_2022_URL_df.head(3)"
   ]
  },
  {
   "cell_type": "code",
   "execution_count": 24,
   "id": "35a9039b-65b7-4d89-aed3-76c860fa00af",
   "metadata": {},
   "outputs": [
    {
     "data": {
      "text/plain": [
       "'https://www.fifa.com/fifaplus/en/match-centre/match/17/255711/285063/400128082'"
      ]
     },
     "execution_count": 24,
     "metadata": {},
     "output_type": "execute_result"
    }
   ],
   "source": [
    "games_world_cup_2022_URL_df.iloc[0,0]"
   ]
  },
  {
   "cell_type": "markdown",
   "id": "d12c5d44-92d9-45f2-8cf1-f593fd0b4191",
   "metadata": {},
   "source": [
    "## Now that we have collected all the URL, we will open each webpage and scrape the available data"
   ]
  },
  {
   "cell_type": "code",
   "execution_count": 25,
   "id": "0ef1b017-9796-4056-90a4-56e77c4c70a3",
   "metadata": {},
   "outputs": [],
   "source": [
    "possesso_palla_casa =           \"/html/body/div[1]/main/div/div[3]/div/div[2]/div/div/div[1]/div/div[2]/div[2]/div/div[2]/div[1]\"\n",
    "possesso_palla_trasferta =      \"/html/body/div[1]/main/div/div[3]/div/div[2]/div/div/div[1]/div/div[2]/div[2]/div/div[2]/div[3]\"\n",
    "gol_totale_casa =               \"/html/body/div[1]/main/div/div[3]/div/div[2]/div/div/div[1]/div/div[2]/div[4]/div[1]/div[2]/div[1]\"\n",
    "gol_totale_trasferta =          \"/html/body/div[1]/main/div/div[3]/div/div[2]/div/div/div[1]/div/div[2]/div[4]/div[1]/div[2]/div[3]\"\n",
    "tiri_totale_casa =              \"/html/body/div[1]/main/div/div[3]/div/div[2]/div/div/div[1]/div/div[3]/div[2]/div[1]/div[2]/div[1]\"\n",
    "tiri_totale_trasferta =         \"/html/body/div[1]/main/div/div[3]/div/div[2]/div/div/div[1]/div/div[3]/div[2]/div[1]/div[2]/div[3]\"\n",
    "tiri_in_porta_casa =            \"/html/body/div[1]/main/div/div[3]/div/div[2]/div/div/div[1]/div/div[3]/div[2]/div[2]/div[2]/div[1]\"\n",
    "tiri_in_porta_trasferta =       \"/html/body/div[1]/main/div/div[3]/div/div[2]/div/div/div[1]/div/div[3]/div[2]/div[2]/div[2]/div[3]\" \n",
    "ammonizioni_casa =              \"/html/body/div[1]/main/div/div[3]/div/div[2]/div/div/div[1]/div/div[8]/div[2]/div[1]/div[2]/div[1]\" \n",
    "ammonizioni_trasferta =         \"/html/body/div[1]/main/div/div[3]/div/div[2]/div/div/div[1]/div/div[8]/div[2]/div[1]/div[2]/div[3]\" \n",
    "espulsioni_casa =               \"/html/body/div[1]/main/div/div[3]/div/div[2]/div/div/div[1]/div/div[8]/div[2]/div[2]/div[2]/div[1]\" \n",
    "espulsioni_trasferta =          \"/html/body/div[1]/main/div/div[3]/div/div[2]/div/div/div[1]/div/div[8]/div[2]/div[2]/div[2]/div[3]\" \n",
    "falli_subiti_casa =             \"/html/body/div[1]/main/div/div[3]/div/div[2]/div/div/div[1]/div/div[8]/div[2]/div[3]/div[2]/div[1]\" \n",
    "falli_subiti_trasferta =        \"/html/body/div[1]/main/div/div[3]/div/div[2]/div/div/div[1]/div/div[8]/div[2]/div[3]/div[2]/div[3]\" \n",
    "fuorigioco_casa =               \"/html/body/div[1]/main/div/div[3]/div/div[2]/div/div/div[1]/div/div[8]/div[2]/div[4]/div[2]/div[1]\" \n",
    "fuorigioco_trasferta =          \"/html/body/div[1]/main/div/div[3]/div/div[2]/div/div/div[1]/div/div[8]/div[2]/div[4]/div[2]/div[3]\"\n",
    "passaggi_casa =                 \"/html/body/div[1]/main/div/div[3]/div/div[2]/div/div/div[1]/div/div[9]/div[2]/div[1]/div[2]/div[1]\" \n",
    "passaggi_trasferta =            \"/html/body/div[1]/main/div/div[3]/div/div[2]/div/div/div[1]/div/div[9]/div[2]/div[1]/div[2]/div[3]\"\n",
    "passaggi_completati_casa =      \"/html/body/div[1]/main/div/div[3]/div/div[2]/div/div/div[1]/div/div[9]/div[2]/div[2]/div[2]/div[1]\" \n",
    "passaggi_completati_trasferta = \"/html/body/div[1]/main/div/div[3]/div/div[2]/div/div/div[1]/div/div[9]/div[2]/div[2]/div[2]/div[3]\"\n",
    "cross_casa =                    \"/html/body/div[1]/main/div/div[3]/div/div[2]/div/div/div[1]/div/div[9]/div[2]/div[3]/div[2]/div[1]\" \n",
    "cross_trasferta =               \"/html/body/div[1]/main/div/div[3]/div/div[2]/div/div/div[1]/div/div[9]/div[2]/div[3]/div[2]/div[3]\" \n",
    "cross_completati_casa =         \"/html/body/div[1]/main/div/div[3]/div/div[2]/div/div/div[1]/div/div[9]/div[2]/div[4]/div[2]/div[1]\" \n",
    "cross_completati_trasferta =    \"/html/body/div[1]/main/div/div[3]/div/div[2]/div/div/div[1]/div/div[9]/div[2]/div[4]/div[2]/div[3]\" \n",
    "corner_casa =                   \"/html/body/div[1]/main/div/div[3]/div/div[2]/div/div/div[1]/div/div[10]/div[2]/div[1]/div[2]/div[1]\" \n",
    "corner_trasferta =              \"/html/body/div[1]/main/div/div[3]/div/div[2]/div/div/div[1]/div/div[10]/div[2]/div[1]/div[2]/div[3]\" \n",
    "calci_piazzati_casa =           \"/html/body/div[1]/main/div/div[3]/div/div[2]/div/div/div[1]/div/div[10]/div[2]/div[2]/div[2]/div[1]\" \n",
    "calci_piazzati_trasferta =      \"/html/body/div[1]/main/div/div[3]/div/div[2]/div/div/div[1]/div/div[10]/div[2]/div[2]/div[2]/div[3]\" \n",
    "rigori_segnati_casa =           \"/html/body/div[1]/main/div/div[3]/div/div[2]/div/div/div[1]/div/div[10]/div[2]/div[3]/div[2]/div[1]\" \n",
    "rigori_segnati_trasferta =      \"/html/body/div[1]/main/div/div[3]/div/div[2]/div/div/div[1]/div/div[10]/div[2]/div[3]/div[2]/div[3]\"\n",
    "\n",
    "list_statistiche = [possesso_palla_casa     \n",
    "                    ,possesso_palla_trasferta\n",
    "                    ,gol_totale_casa\n",
    "                    ,gol_totale_trasferta\n",
    "                    ,tiri_totale_casa\n",
    "                    ,tiri_totale_trasferta\n",
    "                    ,tiri_in_porta_casa\n",
    "                    ,tiri_in_porta_trasferta \n",
    "                    ,ammonizioni_casa \n",
    "                    ,ammonizioni_trasferta \n",
    "                    ,espulsioni_casa\n",
    "                    ,espulsioni_trasferta\n",
    "                    ,falli_subiti_casa\n",
    "                    ,falli_subiti_trasferta\n",
    "                    ,fuorigioco_casa\n",
    "                    ,fuorigioco_trasferta\n",
    "                    ,passaggi_casa\n",
    "                    ,passaggi_trasferta\n",
    "                    ,passaggi_completati_casa\n",
    "                    ,passaggi_completati_trasferta\n",
    "                    ,cross_casa \n",
    "                    ,cross_trasferta\n",
    "                    ,cross_completati_casa\n",
    "                    ,cross_completati_trasferta\n",
    "                    ,corner_casa\n",
    "                    ,corner_trasferta\n",
    "                    ,calci_piazzati_casa\n",
    "                    ,calci_piazzati_trasferta\n",
    "                    ,rigori_segnati_casa\n",
    "                    ,rigori_segnati_trasferta\n",
    "                    ]\n",
    "\n",
    "\n",
    "\n",
    "list_statistiche_stringhe = ['percentuale_possesso_palla_casa'     \n",
    "                        ,'percentuale_possesso_palla_trasferta'\n",
    "                        ,'gol_totale_casa'\n",
    "                        ,'gol_totale_trasferta'\n",
    "                        ,'tiri_totale_casa'\n",
    "                        ,'tiri_totale_trasferta'\n",
    "                        ,'tiri_in_porta_casa'\n",
    "                        ,'tiri_in_porta_trasferta' \n",
    "                        ,'ammonizioni_casa' \n",
    "                        ,'ammonizioni_trasferta' \n",
    "                        ,'espulsioni_casa'\n",
    "                        ,'espulsioni_trasferta'\n",
    "                        ,'falli_subiti_casa'\n",
    "                        ,'falli_subiti_trasferta'\n",
    "                        ,'fuorigioco_casa'\n",
    "                        ,'fuorigioco_trasferta'\n",
    "                        ,'passaggi_casa'\n",
    "                        ,'passaggi_trasferta'\n",
    "                        ,'passaggi_completati_casa'\n",
    "                        ,'passaggi_completati_trasferta'\n",
    "                        ,'cross_casa'\n",
    "                        ,'cross_trasferta'\n",
    "                        ,'cross_completati_casa'\n",
    "                        ,'cross_completati_trasferta'\n",
    "                        ,'corner_casa'\n",
    "                        ,'corner_trasferta'\n",
    "                        ,'calci_piazzati_casa'\n",
    "                        ,'calci_piazzati_trasferta'\n",
    "                        ,'rigori_segnati_casa'\n",
    "                        ,'rigori_segnati_trasferta'\n",
    "                        ]\n",
    "\n",
    "list_names00 = ['tipo_di_partita',\n",
    "            'squadra_in_casa',\n",
    "            'squadra_in_trasferta',\n",
    "            'datetime_kick_off',\n",
    "            'gol_segnati_casa',\n",
    "            'gol_segnati_trasferta',\n",
    "            'rigori_finali_segnati_casa',\n",
    "            'rigori_finali_segnati_trasferta'\n",
    "            ]\n"
   ]
  },
  {
   "cell_type": "code",
   "execution_count": 26,
   "id": "a59df4b0-4b59-49c8-9325-2faa2fb006c7",
   "metadata": {},
   "outputs": [],
   "source": [
    "def match_header_function(driver):\n",
    "    #match_header0 = WebDriverWait(driver, delay).until(\n",
    "    #        EC.presence_of_element_located((By.CLASS_NAME, \n",
    "    #                                        \"ff-p-0\"))).text\n",
    "    match_header0 = driver.find_element(By.CLASS_NAME, \n",
    "                                            \"ff-p-0\").text\n",
    "    match_header0 = match_header0.split('\\n')\n",
    "    type_of_game = match_header0[0]\n",
    "    teams_ID_list_short = list(df_team_names['team_short_name'].values)\n",
    "    teams_ID_list_long = list(df_team_names['team_long_name_uppercase'].values)\n",
    "\n",
    "    teams00 = []\n",
    "    for i in range(len(match_header0[0:7])):\n",
    "        if (match_header0[i] in teams_ID_list_short) or (match_header0[i] in teams_ID_list_long):\n",
    "            teams00.append(match_header0[i])\n",
    "\n",
    "    home_team = teams00[0]\n",
    "    away_team = teams00[1]\n",
    "\n",
    "    kick_off_datetime = []\n",
    "    dot = '  •  '\n",
    "    for i in range(len(match_header0[0:3])):\n",
    "        if dot in match_header0[i]:\n",
    "            kick_off_datetime.append(match_header0[i])\n",
    "\n",
    "\n",
    "    #kick_off_datetime = kick_off_datetime[0].split(dot)\n",
    "    #print(kick_off_datetime)\n",
    "\n",
    "    kick_off_datetime = kick_off_datetime[0].split(' ')\n",
    "    hour0 = kick_off_datetime[0].zfill(2)\n",
    "    minutes0 = kick_off_datetime[2].zfill(2)\n",
    "    day0 = kick_off_datetime[6].zfill(2)\n",
    "    month0 = kick_off_datetime[7]\n",
    "    year0 = kick_off_datetime[8].zfill(4)\n",
    "\n",
    "    if month0 == 'DEC':\n",
    "        month0 = 12\n",
    "    elif month0 == 'NOV':\n",
    "        month0 = 11\n",
    "    #elif month0 == 'OCT':\n",
    "    #    month0 = 10\n",
    "\n",
    "\n",
    "    kick_off_datetime = '{0}-{1}-{2} {3}:{4}'.format(year0,\n",
    "                                                   month0,\n",
    "                                                   day0,\n",
    "                                                   hour0,\n",
    "                                                   minutes0\n",
    "                                                  )\n",
    "\n",
    "    kick_off_datetime = datetime.strptime(kick_off_datetime, '%Y-%m-%d %H:%M')\n",
    "\n",
    "\n",
    "    #print('home team: ', home_team)\n",
    "    #print('away team: ', away_team)\n",
    "\n",
    "    #print('type of game: ',type_of_game)\n",
    "    #print('kick-off datetime: ',kick_off_datetime)\n",
    "\n",
    "    hyphen = r' - ' \n",
    "    if hyphen in match_header0[4]:\n",
    "        score = match_header0[4].split(hyphen)\n",
    "        home_teams_goals = int(score[0])\n",
    "        away_teams_goals = int(score[1][2:])\n",
    "        penalties_scored_home_team = int(match_header0[3][1:-1])\n",
    "        penalties_scored_away_team = int(match_header0[5][1:-1])\n",
    "    elif hyphen in match_header0[3]:\n",
    "        score = match_header0[3].split(hyphen)\n",
    "        home_teams_goals = int(score[0])\n",
    "        away_teams_goals = int(score[1][2:])\n",
    "        penalties_scored_home_team = 0\n",
    "        penalties_scored_away_team = 0\n",
    "    #print('home team goals: ',home_teams_goals)\n",
    "    #print('away team goals: ',away_teams_goals)\n",
    "    #print('penalties scored home team: ',penalties_scored_home_team)\n",
    "    #print('penalties scored away team: ',penalties_scored_away_team)\n",
    "    #print('')\n",
    "    \n",
    "       \n",
    "    list_values00 = [type_of_game,\n",
    "                     home_team,\n",
    "                     away_team,\n",
    "                     kick_off_datetime,\n",
    "                     home_teams_goals,\n",
    "                     away_teams_goals,\n",
    "                     penalties_scored_home_team,\n",
    "                     penalties_scored_away_team\n",
    "                        ]\n",
    "\n",
    "    df_header00 = pd.DataFrame(list_values00,\n",
    "                               columns=['valori'],\n",
    "                              index=list_names00)\n",
    "    \n",
    "    df_header00 = df_header00.T.reset_index(drop=True)\n",
    "    \n",
    "    df_header00['nome_partita'] = df_header00[\n",
    "                'squadra_in_casa'] + \"-\" + df_header00[\n",
    "                'squadra_in_trasferta']\n",
    "\n",
    "    df_header00['kick_off_day'] = df_header00['datetime_kick_off'].dt.date\n",
    "    df_header00['kick_off_day'] = pd.to_datetime(df_header00['kick_off_day'])\n",
    "    df_header00['datetime_kick_off_string'] = df_header00['datetime_kick_off'].astype(str)\n",
    "    df_header00['kick_off_day_string'] = df_header00['kick_off_day'].astype(str)\n",
    "    \n",
    "    colonne_numeriche00 = ['gol_segnati_casa'\n",
    "                           ,'gol_segnati_trasferta'\n",
    "                           ,'rigori_finali_segnati_casa'\n",
    "                           ,'rigori_finali_segnati_trasferta'\n",
    "                        ]\n",
    "\n",
    "    for i in colonne_numeriche00:\n",
    "        df_header00[i] = df_header00[i].astype(int)\n",
    "        \n",
    "    return df_header00"
   ]
  },
  {
   "cell_type": "code",
   "execution_count": 27,
   "id": "b89dbd47-0dc2-4a2a-8f89-1183e3906dfa",
   "metadata": {},
   "outputs": [
    {
     "name": "stdout",
     "output_type": "stream",
     "text": [
      "64\n"
     ]
    }
   ],
   "source": [
    "#list(games_world_cup_2022_URL_df['URL'].values)\n",
    "#games_world_cup_2022_URL_list\n",
    "print(len(games_world_cup_2022_URL_list[:]))"
   ]
  },
  {
   "cell_type": "code",
   "execution_count": 28,
   "id": "f402f3e9-8e95-4427-97ef-b262e21ee2c0",
   "metadata": {},
   "outputs": [],
   "source": [
    "def gol_scored_function(driver,\n",
    "                       button_XPATH,\n",
    "                       gol_squadra_in_casa_XPATH,\n",
    "                       gol_squadra_in_trasferta_XPATH):\n",
    "    button = driver.find_element(By.XPATH, button_XPATH)\n",
    "    button.click()\n",
    "    time.sleep(2)\n",
    "\n",
    "\n",
    "    xpath_list_gol0 = [gol_squadra_in_casa_XPATH,\n",
    "                      gol_squadra_in_trasferta_XPATH]\n",
    "\n",
    "    xpath_list_gol0_words = ['casa',\n",
    "                            'trasferta']\n",
    "    dataframe_list_goals = []\n",
    "\n",
    "    for k, j in zip(xpath_list_gol0, xpath_list_gol0_words): \n",
    "        gol_squadra_element = driver.find_element(By.XPATH, k)\n",
    "        gol_information_list = gol_squadra_element.text.split('\\n')\n",
    "\n",
    "        gol_information_list01 = []\n",
    "        for i in gol_information_list:\n",
    "            if len(gol_information_list)>1:\n",
    "                if i[0].isalpha():\n",
    "                    #nella partita Argentina-Croazia, un allenatore croato è stato espulso\n",
    "                    if not i.endswith(\"(Staff)\"):\n",
    "                        gol_information_list01.append(i)\n",
    "        \n",
    "        #if len(gol_information_list01)>0: \n",
    "        goal_df0 = pd.DataFrame(gol_information_list01,\n",
    "                               columns=['goal_scorer']).reset_index()\n",
    "        goal_df0['length'] = len(goal_df0) - goal_df0['index']\n",
    "        goal_df0['count'] = 'gol_{}_'.format(j)\n",
    "        goal_df0['count1'] = goal_df0['count'] + goal_df0['length'].astype(str)\n",
    "        goal_df0 = goal_df0[['count1','goal_scorer']]\n",
    "        dataframe_list_goals.append(goal_df0)\n",
    "\n",
    "    dataframe_goals = pd.concat(dataframe_list_goals,\n",
    "                               ignore_index=True)\n",
    "    dataframe_goals = dataframe_goals.set_index('count1').T.reset_index(drop=True)\n",
    "    return dataframe_goals"
   ]
  },
  {
   "cell_type": "code",
   "execution_count": 29,
   "id": "0b56034c-e575-41d2-abb1-eb077ec37f23",
   "metadata": {},
   "outputs": [],
   "source": [
    "def statische_partita_function(driver,\n",
    "                             STATS_button_XPATH):\n",
    "    STATS_button = driver.find_element(By.XPATH, STATS_button_XPATH)\n",
    "    STATS_button.click() \n",
    "    time.sleep(3)\n",
    "    statistiche_partita_lista00 = []\n",
    "    list_valori_in_percentuale = [possesso_palla_casa     \n",
    "                                  ,possesso_palla_trasferta\n",
    "                                 ]\n",
    "    for i in list_statistiche:\n",
    "        element_text = driver.find_element(\"xpath\",i).text\n",
    "        if element_text[-1] == r\"%\":\n",
    "            element_text = (element_text)[:-1]\n",
    "        statistiche_partita_lista00.append(int(element_text))\n",
    "\n",
    "\n",
    "    statistiche_df = pd.DataFrame(statistiche_partita_lista00,\n",
    "                                  columns=['valori_statistiche'],\n",
    "                                  index=list_statistiche_stringhe\n",
    "                                 )\n",
    "    test = statistiche_df.T.reset_index(drop=True)\n",
    "    #time.sleep(3)\n",
    "    return test"
   ]
  },
  {
   "cell_type": "code",
   "execution_count": 30,
   "id": "f4e1f84d-028d-41c6-9276-4a13ebcf47d2",
   "metadata": {},
   "outputs": [],
   "source": [
    "def cartellini_rossi_casa_function(final_df):\n",
    "    if final_df['espulsioni_casa'].values[0] == 1:\n",
    "        nome_ultimo_gol_casa = []\n",
    "        for i in list(final_df.columns):\n",
    "            if i.startswith('gol_casa'):\n",
    "                nome_ultimo_gol_casa.append(i)\n",
    "        final_df = final_df.rename(\n",
    "            columns={nome_ultimo_gol_casa[0]:'cartellino_rosso_casa_1'})\n",
    "    return final_df"
   ]
  },
  {
   "cell_type": "code",
   "execution_count": 31,
   "id": "82a3e03b-bef2-407d-a355-04513d793908",
   "metadata": {},
   "outputs": [],
   "source": [
    "list_of_games_stats_dataframes = []"
   ]
  },
  {
   "cell_type": "code",
   "execution_count": 32,
   "id": "6748c174-6b2c-4b9e-b054-3ba1c6622aa3",
   "metadata": {},
   "outputs": [
    {
     "name": "stdout",
     "output_type": "stream",
     "text": [
      "0\n"
     ]
    }
   ],
   "source": [
    "print(len(list_of_games_stats_dataframes))"
   ]
  },
  {
   "cell_type": "code",
   "execution_count": 33,
   "id": "e824223f-178a-4b3f-a530-7248422f1c06",
   "metadata": {},
   "outputs": [
    {
     "name": "stdout",
     "output_type": "stream",
     "text": [
      "[0 1 2 3 4 5 6 7 8 9]\n",
      "[10 11 12 13 14 15 16 17 18 19]\n",
      "[20 21 22 23 24 25 26 27 28 29]\n",
      "[30 31 32 33 34 35 36 37 38 39]\n",
      "[40 41 42 43 44 45 46 47 48 49]\n",
      "[50 51 52 53 54 55 56 57 58 59]\n",
      "[60 61 62 63]\n"
     ]
    }
   ],
   "source": [
    "print(np.arange(0,10,1))  #  0:10 #\n",
    "print(np.arange(10,20,1)) # 10:20 #\n",
    "print(np.arange(20,30,1)) # 20:30 #\n",
    "print(np.arange(30,40,1)) # 30:40 #\n",
    "print(np.arange(40,50,1)) # 40:50 #\n",
    "print(np.arange(50,60,1)) # 50:60 #\n",
    "print(np.arange(60,64,1)) # 60:64 #"
   ]
  },
  {
   "cell_type": "code",
   "execution_count": 37,
   "id": "e158b85d-7296-4265-8567-44faece74551",
   "metadata": {},
   "outputs": [
    {
     "name": "stderr",
     "output_type": "stream",
     "text": [
      "  0%|          | 0/64 [00:00<?, ?it/s]"
     ]
    },
    {
     "name": "stdout",
     "output_type": "stream",
     "text": [
      "  tipo_di_partita squadra_in_casa squadra_in_trasferta   datetime_kick_off\n",
      "0         Group A           QATAR              ECUADOR 2022-11-20 17:00:00\n",
      "\n",
      "\n"
     ]
    },
    {
     "name": "stderr",
     "output_type": "stream",
     "text": [
      "  2%|▏         | 1/64 [00:21<22:43, 21.64s/it]"
     ]
    },
    {
     "name": "stdout",
     "output_type": "stream",
     "text": [
      "  tipo_di_partita squadra_in_casa squadra_in_trasferta   datetime_kick_off\n",
      "0         Group B         ENGLAND                 IRAN 2022-11-21 14:00:00\n",
      "\n",
      "\n"
     ]
    },
    {
     "name": "stderr",
     "output_type": "stream",
     "text": [
      "  3%|▎         | 2/64 [00:33<16:21, 15.84s/it]"
     ]
    },
    {
     "name": "stdout",
     "output_type": "stream",
     "text": [
      "  tipo_di_partita squadra_in_casa squadra_in_trasferta   datetime_kick_off\n",
      "0         Group A         SENEGAL          NETHERLANDS 2022-11-21 17:00:00\n",
      "\n",
      "\n"
     ]
    },
    {
     "name": "stderr",
     "output_type": "stream",
     "text": [
      "  5%|▍         | 3/64 [00:44<14:00, 13.78s/it]"
     ]
    },
    {
     "name": "stdout",
     "output_type": "stream",
     "text": [
      "  tipo_di_partita squadra_in_casa squadra_in_trasferta   datetime_kick_off\n",
      "0         Group B   UNITED STATES                WALES 2022-11-21 20:00:00\n",
      "\n",
      "\n"
     ]
    },
    {
     "name": "stderr",
     "output_type": "stream",
     "text": [
      "  6%|▋         | 4/64 [00:56<12:58, 12.98s/it]"
     ]
    },
    {
     "name": "stdout",
     "output_type": "stream",
     "text": [
      "  tipo_di_partita squadra_in_casa squadra_in_trasferta   datetime_kick_off\n",
      "0         Group C       ARGENTINA         SAUDI ARABIA 2022-11-22 11:00:00\n",
      "\n",
      "\n"
     ]
    },
    {
     "name": "stderr",
     "output_type": "stream",
     "text": [
      "  8%|▊         | 5/64 [01:08<12:15, 12.47s/it]"
     ]
    },
    {
     "name": "stdout",
     "output_type": "stream",
     "text": [
      "  tipo_di_partita squadra_in_casa squadra_in_trasferta   datetime_kick_off\n",
      "0         Group D         DENMARK              TUNISIA 2022-11-22 14:00:00\n",
      "\n",
      "\n"
     ]
    },
    {
     "name": "stderr",
     "output_type": "stream",
     "text": [
      "  9%|▉         | 6/64 [01:19<11:45, 12.17s/it]"
     ]
    },
    {
     "name": "stdout",
     "output_type": "stream",
     "text": [
      "  tipo_di_partita squadra_in_casa squadra_in_trasferta   datetime_kick_off\n",
      "0         Group C          MEXICO               POLAND 2022-11-22 17:00:00\n",
      "\n",
      "\n"
     ]
    },
    {
     "name": "stderr",
     "output_type": "stream",
     "text": [
      " 11%|█         | 7/64 [01:31<11:24, 12.02s/it]"
     ]
    },
    {
     "name": "stdout",
     "output_type": "stream",
     "text": [
      "  tipo_di_partita squadra_in_casa squadra_in_trasferta   datetime_kick_off\n",
      "0         Group D          FRANCE            AUSTRALIA 2022-11-22 20:00:00\n",
      "\n",
      "\n"
     ]
    },
    {
     "name": "stderr",
     "output_type": "stream",
     "text": [
      " 12%|█▎        | 8/64 [01:43<11:10, 11.97s/it]"
     ]
    },
    {
     "name": "stdout",
     "output_type": "stream",
     "text": [
      "  tipo_di_partita squadra_in_casa squadra_in_trasferta   datetime_kick_off\n",
      "0         Group F         MOROCCO              CROATIA 2022-11-23 11:00:00\n",
      "\n",
      "\n"
     ]
    },
    {
     "name": "stderr",
     "output_type": "stream",
     "text": [
      " 14%|█▍        | 9/64 [01:54<10:49, 11.81s/it]"
     ]
    },
    {
     "name": "stdout",
     "output_type": "stream",
     "text": [
      "  tipo_di_partita squadra_in_casa squadra_in_trasferta   datetime_kick_off\n",
      "0         Group E         GERMANY                JAPAN 2022-11-23 14:00:00\n",
      "\n",
      "\n"
     ]
    },
    {
     "name": "stderr",
     "output_type": "stream",
     "text": [
      " 16%|█▌        | 10/64 [02:06<10:37, 11.80s/it]"
     ]
    },
    {
     "name": "stdout",
     "output_type": "stream",
     "text": [
      "  tipo_di_partita squadra_in_casa squadra_in_trasferta   datetime_kick_off\n",
      "0         Group E           SPAIN           COSTA RICA 2022-11-23 17:00:00\n",
      "\n",
      "\n"
     ]
    },
    {
     "name": "stderr",
     "output_type": "stream",
     "text": [
      " 17%|█▋        | 11/64 [02:18<10:21, 11.73s/it]"
     ]
    },
    {
     "name": "stdout",
     "output_type": "stream",
     "text": [
      "  tipo_di_partita squadra_in_casa squadra_in_trasferta   datetime_kick_off\n",
      "0         Group F         BELGIUM               CANADA 2022-11-23 20:00:00\n",
      "\n",
      "\n"
     ]
    },
    {
     "name": "stderr",
     "output_type": "stream",
     "text": [
      " 19%|█▉        | 12/64 [02:29<10:08, 11.71s/it]"
     ]
    },
    {
     "name": "stdout",
     "output_type": "stream",
     "text": [
      "  tipo_di_partita squadra_in_casa squadra_in_trasferta   datetime_kick_off\n",
      "0         Group G     SWITZERLAND             CAMEROON 2022-11-24 11:00:00\n",
      "\n",
      "\n"
     ]
    },
    {
     "name": "stderr",
     "output_type": "stream",
     "text": [
      " 20%|██        | 13/64 [02:41<09:57, 11.71s/it]"
     ]
    },
    {
     "name": "stdout",
     "output_type": "stream",
     "text": [
      "  tipo_di_partita squadra_in_casa squadra_in_trasferta   datetime_kick_off\n",
      "0         Group H         URUGUAY       KOREA REPUBLIC 2022-11-24 14:00:00\n",
      "\n",
      "\n"
     ]
    },
    {
     "name": "stderr",
     "output_type": "stream",
     "text": [
      " 22%|██▏       | 14/64 [02:53<09:45, 11.71s/it]"
     ]
    },
    {
     "name": "stdout",
     "output_type": "stream",
     "text": [
      "  tipo_di_partita squadra_in_casa squadra_in_trasferta   datetime_kick_off\n",
      "0         Group H        PORTUGAL                GHANA 2022-11-24 17:00:00\n",
      "\n",
      "\n"
     ]
    },
    {
     "name": "stderr",
     "output_type": "stream",
     "text": [
      " 23%|██▎       | 15/64 [03:04<09:34, 11.73s/it]"
     ]
    },
    {
     "name": "stdout",
     "output_type": "stream",
     "text": [
      "  tipo_di_partita squadra_in_casa squadra_in_trasferta   datetime_kick_off\n",
      "0         Group G          BRAZIL               SERBIA 2022-11-24 20:00:00\n",
      "\n",
      "\n"
     ]
    },
    {
     "name": "stderr",
     "output_type": "stream",
     "text": [
      " 25%|██▌       | 16/64 [03:16<09:21, 11.69s/it]"
     ]
    },
    {
     "name": "stdout",
     "output_type": "stream",
     "text": [
      "  tipo_di_partita squadra_in_casa squadra_in_trasferta   datetime_kick_off\n",
      "0         Group B           WALES                 IRAN 2022-11-25 11:00:00\n",
      "\n",
      "\n"
     ]
    },
    {
     "name": "stderr",
     "output_type": "stream",
     "text": [
      " 27%|██▋       | 17/64 [03:28<09:09, 11.70s/it]"
     ]
    },
    {
     "name": "stdout",
     "output_type": "stream",
     "text": [
      "  tipo_di_partita squadra_in_casa squadra_in_trasferta   datetime_kick_off\n",
      "0         Group A           QATAR              SENEGAL 2022-11-25 14:00:00\n",
      "\n",
      "\n"
     ]
    },
    {
     "name": "stderr",
     "output_type": "stream",
     "text": [
      " 28%|██▊       | 18/64 [03:40<09:00, 11.75s/it]"
     ]
    },
    {
     "name": "stdout",
     "output_type": "stream",
     "text": [
      "  tipo_di_partita squadra_in_casa squadra_in_trasferta   datetime_kick_off\n",
      "0         Group A     NETHERLANDS              ECUADOR 2022-11-25 17:00:00\n",
      "\n",
      "\n"
     ]
    },
    {
     "name": "stderr",
     "output_type": "stream",
     "text": [
      " 30%|██▉       | 19/64 [03:51<08:48, 11.75s/it]"
     ]
    },
    {
     "name": "stdout",
     "output_type": "stream",
     "text": [
      "  tipo_di_partita squadra_in_casa squadra_in_trasferta   datetime_kick_off\n",
      "0         Group B         ENGLAND        UNITED STATES 2022-11-25 20:00:00\n",
      "\n",
      "\n"
     ]
    },
    {
     "name": "stderr",
     "output_type": "stream",
     "text": [
      " 31%|███▏      | 20/64 [04:03<08:36, 11.75s/it]"
     ]
    },
    {
     "name": "stdout",
     "output_type": "stream",
     "text": [
      "  tipo_di_partita squadra_in_casa squadra_in_trasferta   datetime_kick_off\n",
      "0         Group D         TUNISIA            AUSTRALIA 2022-11-26 11:00:00\n",
      "\n",
      "\n"
     ]
    },
    {
     "name": "stderr",
     "output_type": "stream",
     "text": [
      " 33%|███▎      | 21/64 [04:15<08:24, 11.73s/it]"
     ]
    },
    {
     "name": "stdout",
     "output_type": "stream",
     "text": [
      "  tipo_di_partita squadra_in_casa squadra_in_trasferta   datetime_kick_off\n",
      "0         Group C          POLAND         SAUDI ARABIA 2022-11-26 14:00:00\n",
      "\n",
      "\n"
     ]
    },
    {
     "name": "stderr",
     "output_type": "stream",
     "text": [
      " 34%|███▍      | 22/64 [04:27<08:13, 11.76s/it]"
     ]
    },
    {
     "name": "stdout",
     "output_type": "stream",
     "text": [
      "  tipo_di_partita squadra_in_casa squadra_in_trasferta   datetime_kick_off\n",
      "0         Group D          FRANCE              DENMARK 2022-11-26 17:00:00\n",
      "\n",
      "\n"
     ]
    },
    {
     "name": "stderr",
     "output_type": "stream",
     "text": [
      " 36%|███▌      | 23/64 [04:38<08:03, 11.78s/it]"
     ]
    },
    {
     "name": "stdout",
     "output_type": "stream",
     "text": [
      "  tipo_di_partita squadra_in_casa squadra_in_trasferta   datetime_kick_off\n",
      "0         Group C       ARGENTINA               MEXICO 2022-11-26 20:00:00\n",
      "\n",
      "\n"
     ]
    },
    {
     "name": "stderr",
     "output_type": "stream",
     "text": [
      " 38%|███▊      | 24/64 [04:50<07:51, 11.78s/it]"
     ]
    },
    {
     "name": "stdout",
     "output_type": "stream",
     "text": [
      "  tipo_di_partita squadra_in_casa squadra_in_trasferta   datetime_kick_off\n",
      "0         Group E           JAPAN           COSTA RICA 2022-11-27 11:00:00\n",
      "\n",
      "\n"
     ]
    },
    {
     "name": "stderr",
     "output_type": "stream",
     "text": [
      " 39%|███▉      | 25/64 [05:02<07:36, 11.70s/it]"
     ]
    },
    {
     "name": "stdout",
     "output_type": "stream",
     "text": [
      "  tipo_di_partita squadra_in_casa squadra_in_trasferta   datetime_kick_off\n",
      "0         Group F         BELGIUM              MOROCCO 2022-11-27 14:00:00\n",
      "\n",
      "\n"
     ]
    },
    {
     "name": "stderr",
     "output_type": "stream",
     "text": [
      " 41%|████      | 26/64 [05:13<07:19, 11.58s/it]"
     ]
    },
    {
     "name": "stdout",
     "output_type": "stream",
     "text": [
      "  tipo_di_partita squadra_in_casa squadra_in_trasferta   datetime_kick_off\n",
      "0         Group F         CROATIA               CANADA 2022-11-27 17:00:00\n",
      "\n",
      "\n"
     ]
    },
    {
     "name": "stderr",
     "output_type": "stream",
     "text": [
      " 42%|████▏     | 27/64 [05:25<07:09, 11.61s/it]"
     ]
    },
    {
     "name": "stdout",
     "output_type": "stream",
     "text": [
      "  tipo_di_partita squadra_in_casa squadra_in_trasferta   datetime_kick_off\n",
      "0         Group E           SPAIN              GERMANY 2022-11-27 20:00:00\n",
      "\n",
      "\n"
     ]
    },
    {
     "name": "stderr",
     "output_type": "stream",
     "text": [
      " 44%|████▍     | 28/64 [05:37<07:00, 11.68s/it]"
     ]
    },
    {
     "name": "stdout",
     "output_type": "stream",
     "text": [
      "  tipo_di_partita squadra_in_casa squadra_in_trasferta   datetime_kick_off\n",
      "0         Group G        CAMEROON               SERBIA 2022-11-28 11:00:00\n",
      "\n",
      "\n"
     ]
    },
    {
     "name": "stderr",
     "output_type": "stream",
     "text": [
      " 45%|████▌     | 29/64 [05:48<06:49, 11.69s/it]"
     ]
    },
    {
     "name": "stdout",
     "output_type": "stream",
     "text": [
      "  tipo_di_partita squadra_in_casa squadra_in_trasferta   datetime_kick_off\n",
      "0         Group H  KOREA REPUBLIC                GHANA 2022-11-28 14:00:00\n",
      "\n",
      "\n"
     ]
    },
    {
     "name": "stderr",
     "output_type": "stream",
     "text": [
      " 47%|████▋     | 30/64 [06:00<06:38, 11.72s/it]"
     ]
    },
    {
     "name": "stdout",
     "output_type": "stream",
     "text": [
      "  tipo_di_partita squadra_in_casa squadra_in_trasferta   datetime_kick_off\n",
      "0         Group G          BRAZIL          SWITZERLAND 2022-11-28 17:00:00\n",
      "\n",
      "\n"
     ]
    },
    {
     "name": "stderr",
     "output_type": "stream",
     "text": [
      " 48%|████▊     | 31/64 [06:12<06:26, 11.70s/it]"
     ]
    },
    {
     "name": "stdout",
     "output_type": "stream",
     "text": [
      "  tipo_di_partita squadra_in_casa squadra_in_trasferta   datetime_kick_off\n",
      "0         Group H        PORTUGAL              URUGUAY 2022-11-28 20:00:00\n",
      "\n",
      "\n"
     ]
    },
    {
     "name": "stderr",
     "output_type": "stream",
     "text": [
      " 50%|█████     | 32/64 [06:23<06:15, 11.72s/it]"
     ]
    },
    {
     "name": "stdout",
     "output_type": "stream",
     "text": [
      "  tipo_di_partita squadra_in_casa squadra_in_trasferta   datetime_kick_off\n",
      "0         Group A     NETHERLANDS                QATAR 2022-11-29 16:00:00\n",
      "\n",
      "\n"
     ]
    },
    {
     "name": "stderr",
     "output_type": "stream",
     "text": [
      " 52%|█████▏    | 33/64 [06:35<06:04, 11.76s/it]"
     ]
    },
    {
     "name": "stdout",
     "output_type": "stream",
     "text": [
      "  tipo_di_partita squadra_in_casa squadra_in_trasferta   datetime_kick_off\n",
      "0         Group A         ECUADOR              SENEGAL 2022-11-29 16:00:00\n",
      "\n",
      "\n"
     ]
    },
    {
     "name": "stderr",
     "output_type": "stream",
     "text": [
      " 53%|█████▎    | 34/64 [06:47<05:54, 11.80s/it]"
     ]
    },
    {
     "name": "stdout",
     "output_type": "stream",
     "text": [
      "  tipo_di_partita squadra_in_casa squadra_in_trasferta   datetime_kick_off\n",
      "0         Group B           WALES              ENGLAND 2022-11-29 20:00:00\n",
      "\n",
      "\n"
     ]
    },
    {
     "name": "stderr",
     "output_type": "stream",
     "text": [
      " 55%|█████▍    | 35/64 [06:59<05:41, 11.77s/it]"
     ]
    },
    {
     "name": "stdout",
     "output_type": "stream",
     "text": [
      "  tipo_di_partita squadra_in_casa squadra_in_trasferta   datetime_kick_off\n",
      "0         Group B            IRAN        UNITED STATES 2022-11-29 20:00:00\n",
      "\n",
      "\n"
     ]
    },
    {
     "name": "stderr",
     "output_type": "stream",
     "text": [
      " 56%|█████▋    | 36/64 [07:11<05:28, 11.75s/it]"
     ]
    },
    {
     "name": "stdout",
     "output_type": "stream",
     "text": [
      "  tipo_di_partita squadra_in_casa squadra_in_trasferta   datetime_kick_off\n",
      "0         Group D       AUSTRALIA              DENMARK 2022-11-30 16:00:00\n",
      "\n",
      "\n"
     ]
    },
    {
     "name": "stderr",
     "output_type": "stream",
     "text": [
      " 58%|█████▊    | 37/64 [07:22<05:17, 11.75s/it]"
     ]
    },
    {
     "name": "stdout",
     "output_type": "stream",
     "text": [
      "  tipo_di_partita squadra_in_casa squadra_in_trasferta   datetime_kick_off\n",
      "0         Group D         TUNISIA               FRANCE 2022-11-30 16:00:00\n",
      "\n",
      "\n"
     ]
    },
    {
     "name": "stderr",
     "output_type": "stream",
     "text": [
      " 59%|█████▉    | 38/64 [07:34<05:06, 11.79s/it]"
     ]
    },
    {
     "name": "stdout",
     "output_type": "stream",
     "text": [
      "  tipo_di_partita squadra_in_casa squadra_in_trasferta   datetime_kick_off\n",
      "0         Group C          POLAND            ARGENTINA 2022-11-30 20:00:00\n",
      "\n",
      "\n"
     ]
    },
    {
     "name": "stderr",
     "output_type": "stream",
     "text": [
      " 61%|██████    | 39/64 [07:46<04:55, 11.81s/it]"
     ]
    },
    {
     "name": "stdout",
     "output_type": "stream",
     "text": [
      "  tipo_di_partita squadra_in_casa squadra_in_trasferta   datetime_kick_off\n",
      "0         Group C    SAUDI ARABIA               MEXICO 2022-11-30 20:00:00\n",
      "\n",
      "\n"
     ]
    },
    {
     "name": "stderr",
     "output_type": "stream",
     "text": [
      " 62%|██████▎   | 40/64 [07:58<04:42, 11.79s/it]"
     ]
    },
    {
     "name": "stdout",
     "output_type": "stream",
     "text": [
      "  tipo_di_partita squadra_in_casa squadra_in_trasferta   datetime_kick_off\n",
      "0         Group F         CROATIA              BELGIUM 2022-12-01 16:00:00\n",
      "\n",
      "\n"
     ]
    },
    {
     "name": "stderr",
     "output_type": "stream",
     "text": [
      " 64%|██████▍   | 41/64 [08:09<04:29, 11.74s/it]"
     ]
    },
    {
     "name": "stdout",
     "output_type": "stream",
     "text": [
      "  tipo_di_partita squadra_in_casa squadra_in_trasferta   datetime_kick_off\n",
      "0         Group F          CANADA              MOROCCO 2022-12-01 16:00:00\n",
      "\n",
      "\n"
     ]
    },
    {
     "name": "stderr",
     "output_type": "stream",
     "text": [
      " 66%|██████▌   | 42/64 [08:21<04:19, 11.78s/it]"
     ]
    },
    {
     "name": "stdout",
     "output_type": "stream",
     "text": [
      "  tipo_di_partita squadra_in_casa squadra_in_trasferta   datetime_kick_off\n",
      "0         Group E           JAPAN                SPAIN 2022-12-01 20:00:00\n",
      "\n",
      "\n"
     ]
    },
    {
     "name": "stderr",
     "output_type": "stream",
     "text": [
      " 67%|██████▋   | 43/64 [08:33<04:06, 11.73s/it]"
     ]
    },
    {
     "name": "stdout",
     "output_type": "stream",
     "text": [
      "  tipo_di_partita squadra_in_casa squadra_in_trasferta   datetime_kick_off\n",
      "0         Group E      COSTA RICA              GERMANY 2022-12-01 20:00:00\n",
      "\n",
      "\n"
     ]
    },
    {
     "name": "stderr",
     "output_type": "stream",
     "text": [
      " 69%|██████▉   | 44/64 [08:44<03:53, 11.68s/it]"
     ]
    },
    {
     "name": "stdout",
     "output_type": "stream",
     "text": [
      "  tipo_di_partita squadra_in_casa squadra_in_trasferta   datetime_kick_off\n",
      "0         Group H           GHANA              URUGUAY 2022-12-02 16:00:00\n",
      "\n",
      "\n"
     ]
    },
    {
     "name": "stderr",
     "output_type": "stream",
     "text": [
      " 70%|███████   | 45/64 [08:56<03:40, 11.61s/it]"
     ]
    },
    {
     "name": "stdout",
     "output_type": "stream",
     "text": [
      "  tipo_di_partita squadra_in_casa squadra_in_trasferta   datetime_kick_off\n",
      "0         Group H  KOREA REPUBLIC             PORTUGAL 2022-12-02 16:00:00\n",
      "\n",
      "\n"
     ]
    },
    {
     "name": "stderr",
     "output_type": "stream",
     "text": [
      " 72%|███████▏  | 46/64 [09:07<03:28, 11.58s/it]"
     ]
    },
    {
     "name": "stdout",
     "output_type": "stream",
     "text": [
      "  tipo_di_partita squadra_in_casa squadra_in_trasferta   datetime_kick_off\n",
      "0         Group G          SERBIA          SWITZERLAND 2022-12-02 20:00:00\n",
      "\n",
      "\n"
     ]
    },
    {
     "name": "stderr",
     "output_type": "stream",
     "text": [
      " 73%|███████▎  | 47/64 [09:19<03:17, 11.59s/it]"
     ]
    },
    {
     "name": "stdout",
     "output_type": "stream",
     "text": [
      "  tipo_di_partita squadra_in_casa squadra_in_trasferta   datetime_kick_off\n",
      "0         Group G        CAMEROON               BRAZIL 2022-12-02 20:00:00\n",
      "\n",
      "\n"
     ]
    },
    {
     "name": "stderr",
     "output_type": "stream",
     "text": [
      " 75%|███████▌  | 48/64 [09:31<03:06, 11.63s/it]"
     ]
    },
    {
     "name": "stdout",
     "output_type": "stream",
     "text": [
      "  tipo_di_partita squadra_in_casa squadra_in_trasferta   datetime_kick_off\n",
      "0     Round of 16     NETHERLANDS        UNITED STATES 2022-12-03 16:00:00\n",
      "\n",
      "\n"
     ]
    },
    {
     "name": "stderr",
     "output_type": "stream",
     "text": [
      " 77%|███████▋  | 49/64 [09:42<02:54, 11.64s/it]"
     ]
    },
    {
     "name": "stdout",
     "output_type": "stream",
     "text": [
      "  tipo_di_partita squadra_in_casa squadra_in_trasferta   datetime_kick_off\n",
      "0     Round of 16       ARGENTINA            AUSTRALIA 2022-12-03 20:00:00\n",
      "\n",
      "\n"
     ]
    },
    {
     "name": "stderr",
     "output_type": "stream",
     "text": [
      " 78%|███████▊  | 50/64 [09:54<02:42, 11.64s/it]"
     ]
    },
    {
     "name": "stdout",
     "output_type": "stream",
     "text": [
      "  tipo_di_partita squadra_in_casa squadra_in_trasferta   datetime_kick_off\n",
      "0     Round of 16          FRANCE               POLAND 2022-12-04 16:00:00\n",
      "\n",
      "\n"
     ]
    },
    {
     "name": "stderr",
     "output_type": "stream",
     "text": [
      " 80%|███████▉  | 51/64 [10:06<02:31, 11.65s/it]"
     ]
    },
    {
     "name": "stdout",
     "output_type": "stream",
     "text": [
      "  tipo_di_partita squadra_in_casa squadra_in_trasferta   datetime_kick_off\n",
      "0     Round of 16         ENGLAND              SENEGAL 2022-12-04 20:00:00\n",
      "\n",
      "\n"
     ]
    },
    {
     "name": "stderr",
     "output_type": "stream",
     "text": [
      " 81%|████████▏ | 52/64 [10:17<02:19, 11.61s/it]"
     ]
    },
    {
     "name": "stdout",
     "output_type": "stream",
     "text": [
      "  tipo_di_partita squadra_in_casa squadra_in_trasferta   datetime_kick_off\n",
      "0     Round of 16           JAPAN              CROATIA 2022-12-05 16:00:00\n",
      "\n",
      "\n"
     ]
    },
    {
     "name": "stderr",
     "output_type": "stream",
     "text": [
      " 83%|████████▎ | 53/64 [10:29<02:07, 11.61s/it]"
     ]
    },
    {
     "name": "stdout",
     "output_type": "stream",
     "text": [
      "  tipo_di_partita squadra_in_casa squadra_in_trasferta   datetime_kick_off\n",
      "0     Round of 16          BRAZIL       KOREA REPUBLIC 2022-12-05 20:00:00\n",
      "\n",
      "\n"
     ]
    },
    {
     "name": "stderr",
     "output_type": "stream",
     "text": [
      " 84%|████████▍ | 54/64 [10:40<01:56, 11.61s/it]"
     ]
    },
    {
     "name": "stdout",
     "output_type": "stream",
     "text": [
      "  tipo_di_partita squadra_in_casa squadra_in_trasferta   datetime_kick_off\n",
      "0     Round of 16         MOROCCO                SPAIN 2022-12-06 16:00:00\n",
      "\n",
      "\n"
     ]
    },
    {
     "name": "stderr",
     "output_type": "stream",
     "text": [
      " 86%|████████▌ | 55/64 [10:52<01:43, 11.55s/it]"
     ]
    },
    {
     "name": "stdout",
     "output_type": "stream",
     "text": [
      "  tipo_di_partita squadra_in_casa squadra_in_trasferta   datetime_kick_off\n",
      "0     Round of 16        PORTUGAL          SWITZERLAND 2022-12-06 20:00:00\n",
      "\n",
      "\n"
     ]
    },
    {
     "name": "stderr",
     "output_type": "stream",
     "text": [
      " 88%|████████▊ | 56/64 [11:03<01:32, 11.54s/it]"
     ]
    },
    {
     "name": "stdout",
     "output_type": "stream",
     "text": [
      "  tipo_di_partita squadra_in_casa squadra_in_trasferta   datetime_kick_off\n",
      "0   Quarter-final         CROATIA               BRAZIL 2022-12-09 16:00:00\n",
      "\n",
      "\n"
     ]
    },
    {
     "name": "stderr",
     "output_type": "stream",
     "text": [
      " 89%|████████▉ | 57/64 [11:15<01:21, 11.60s/it]"
     ]
    },
    {
     "name": "stdout",
     "output_type": "stream",
     "text": [
      "  tipo_di_partita squadra_in_casa squadra_in_trasferta   datetime_kick_off\n",
      "0   Quarter-final     NETHERLANDS            ARGENTINA 2022-12-09 20:00:00\n",
      "\n",
      "\n"
     ]
    },
    {
     "name": "stderr",
     "output_type": "stream",
     "text": [
      " 91%|█████████ | 58/64 [11:27<01:09, 11.63s/it]"
     ]
    },
    {
     "name": "stdout",
     "output_type": "stream",
     "text": [
      "  tipo_di_partita squadra_in_casa squadra_in_trasferta   datetime_kick_off\n",
      "0   Quarter-final         MOROCCO             PORTUGAL 2022-12-10 16:00:00\n",
      "\n",
      "\n"
     ]
    },
    {
     "name": "stderr",
     "output_type": "stream",
     "text": [
      " 92%|█████████▏| 59/64 [11:38<00:58, 11.62s/it]"
     ]
    },
    {
     "name": "stdout",
     "output_type": "stream",
     "text": [
      "  tipo_di_partita squadra_in_casa squadra_in_trasferta   datetime_kick_off\n",
      "0   Quarter-final         ENGLAND               FRANCE 2022-12-10 20:00:00\n",
      "\n",
      "\n"
     ]
    },
    {
     "name": "stderr",
     "output_type": "stream",
     "text": [
      " 94%|█████████▍| 60/64 [11:50<00:46, 11.59s/it]"
     ]
    },
    {
     "name": "stdout",
     "output_type": "stream",
     "text": [
      "  tipo_di_partita squadra_in_casa squadra_in_trasferta   datetime_kick_off\n",
      "0      Semi-final       ARGENTINA              CROATIA 2022-12-13 20:00:00\n",
      "\n",
      "\n"
     ]
    },
    {
     "name": "stderr",
     "output_type": "stream",
     "text": [
      " 95%|█████████▌| 61/64 [12:02<00:34, 11.59s/it]"
     ]
    },
    {
     "name": "stdout",
     "output_type": "stream",
     "text": [
      "  tipo_di_partita squadra_in_casa squadra_in_trasferta   datetime_kick_off\n",
      "0      Semi-final          FRANCE              MOROCCO 2022-12-14 20:00:00\n",
      "\n",
      "\n"
     ]
    },
    {
     "name": "stderr",
     "output_type": "stream",
     "text": [
      " 97%|█████████▋| 62/64 [12:13<00:23, 11.58s/it]"
     ]
    },
    {
     "name": "stdout",
     "output_type": "stream",
     "text": [
      "            tipo_di_partita squadra_in_casa squadra_in_trasferta  \\\n",
      "0  Play-off for third place         CROATIA              MOROCCO   \n",
      "\n",
      "    datetime_kick_off  \n",
      "0 2022-12-17 16:00:00  \n",
      "\n",
      "\n"
     ]
    },
    {
     "name": "stderr",
     "output_type": "stream",
     "text": [
      " 98%|█████████▊| 63/64 [12:25<00:11, 11.57s/it]"
     ]
    },
    {
     "name": "stdout",
     "output_type": "stream",
     "text": [
      "  tipo_di_partita squadra_in_casa squadra_in_trasferta   datetime_kick_off\n",
      "0           Final       ARGENTINA               FRANCE 2022-12-18 16:00:00\n",
      "\n",
      "\n"
     ]
    },
    {
     "name": "stderr",
     "output_type": "stream",
     "text": [
      "100%|██████████| 64/64 [12:36<00:00, 11.83s/it]\n"
     ]
    },
    {
     "name": "stdout",
     "output_type": "stream",
     "text": [
      "\n",
      "\n",
      "numero di partite salvate nella lista:  64\n"
     ]
    }
   ],
   "source": [
    "try:\n",
    "    driver.quit()\n",
    "except:\n",
    "    pass\n",
    "\n",
    "driver = webdriver.Edge(executable_path=driver0)\n",
    "#time.sleep(3)\n",
    "\n",
    "STATS_button_XPATH = \"/html/body/div[1]/main/div/div[3]/div/div[1]/div/div[4]\"\n",
    "button_XPATH = '/html/body/div[1]/main/div/div[1]/div/div/button'\n",
    "gol_squadra_in_casa_XPATH =      \"/html/body/div[1]/main/div/div[1]/div/section/div[2]/div[1]/div[1]\"\n",
    "gol_squadra_in_trasferta_XPATH = \"/html/body/div[1]/main/div/div[1]/div/section/div[2]/div[1]/div[3]\"\n",
    "\n",
    "\n",
    "for i in tqdm(games_world_cup_2022_URL_list[:]):\n",
    "    driver.get(i)\n",
    "    time.sleep(3)\n",
    "    try:\n",
    "        cookies0 = driver.find_element(By.ID, 'onetrust-reject-all-handler')\n",
    "        #cookies0 = driver.find_element(By.XPATH, \"/html/body/div[2]/div[2]/div/div[1]/div/div[2]/div/button[2]\")\n",
    "        cookies0.click()\n",
    "    except:\n",
    "        pass\n",
    "    time.sleep(1)\n",
    "    df_header00 = match_header_function(driver)\n",
    "    \n",
    "    goal_df0 = gol_scored_function(driver,\n",
    "                       button_XPATH,\n",
    "                       gol_squadra_in_casa_XPATH,\n",
    "                       gol_squadra_in_trasferta_XPATH)\n",
    "    \n",
    "    test = statische_partita_function(driver,\n",
    "                             STATS_button_XPATH)\n",
    "   \n",
    "    final_df = pd.merge(df_header00,\n",
    "                    test,\n",
    "                    left_index=True,\n",
    "                    right_index=True\n",
    "                   )\n",
    "    #time.sleep(5)\n",
    "    final_df = pd.merge(final_df,\n",
    "                        goal_df0,\n",
    "                        left_index=True,\n",
    "                        right_index=True\n",
    "                       )\n",
    "    \n",
    "    final_df = cartellini_rossi_casa_function(final_df)\n",
    "    \n",
    "    initial_columns = list(final_df.columns)[0:4]\n",
    "    print(final_df[initial_columns])\n",
    "    print('')\n",
    "    print('')\n",
    "    \n",
    "    list_of_games_stats_dataframes.append(final_df)\n",
    "    time.sleep(1)\n",
    "    \n",
    "\n",
    "driver.quit()\n",
    "print('') \n",
    "print('')\n",
    "print('numero di partite salvate nella lista: ', \n",
    "      len(list_of_games_stats_dataframes))"
   ]
  },
  {
   "cell_type": "code",
   "execution_count": 38,
   "id": "875b2f61-5317-41b6-9658-662102818bcf",
   "metadata": {},
   "outputs": [
    {
     "data": {
      "text/plain": [
       "64"
      ]
     },
     "execution_count": 38,
     "metadata": {},
     "output_type": "execute_result"
    }
   ],
   "source": [
    "len(list_of_games_stats_dataframes)"
   ]
  },
  {
   "cell_type": "raw",
   "id": "66e9434b-294f-4973-99ef-06c3dbe925c6",
   "metadata": {},
   "source": [
    "JSON_games_list = []\n",
    "for df in list_of_games_stats_dataframes:\n",
    "    result = df.to_json(orient=\"index\")\n",
    "    parsed = json.loads(result)\n",
    "    json.dumps(parsed, indent=4) \n",
    "    JSON_games_list.append(parsed)"
   ]
  },
  {
   "cell_type": "raw",
   "id": "e89411b8-cdcd-4071-9c24-0f690e80ab0a",
   "metadata": {},
   "source": [
    "JSON_games_list[0]"
   ]
  },
  {
   "cell_type": "code",
   "execution_count": 39,
   "id": "3c8535dc-4cd8-497f-a6ae-245d1433c25b",
   "metadata": {},
   "outputs": [
    {
     "data": {
      "text/html": [
       "<div>\n",
       "<style scoped>\n",
       "    .dataframe tbody tr th:only-of-type {\n",
       "        vertical-align: middle;\n",
       "    }\n",
       "\n",
       "    .dataframe tbody tr th {\n",
       "        vertical-align: top;\n",
       "    }\n",
       "\n",
       "    .dataframe thead th {\n",
       "        text-align: right;\n",
       "    }\n",
       "</style>\n",
       "<table border=\"1\" class=\"dataframe\">\n",
       "  <thead>\n",
       "    <tr style=\"text-align: right;\">\n",
       "      <th></th>\n",
       "      <th>tipo_di_partita</th>\n",
       "      <th>squadra_in_casa</th>\n",
       "      <th>squadra_in_trasferta</th>\n",
       "      <th>datetime_kick_off</th>\n",
       "      <th>gol_segnati_casa</th>\n",
       "      <th>gol_segnati_trasferta</th>\n",
       "      <th>rigori_finali_segnati_casa</th>\n",
       "      <th>rigori_finali_segnati_trasferta</th>\n",
       "      <th>nome_partita</th>\n",
       "      <th>kick_off_day</th>\n",
       "      <th>...</th>\n",
       "      <th>gol_casa_2</th>\n",
       "      <th>gol_casa_3</th>\n",
       "      <th>gol_casa_4</th>\n",
       "      <th>gol_casa_5</th>\n",
       "      <th>gol_casa_6</th>\n",
       "      <th>gol_casa_7</th>\n",
       "      <th>gol_trasferta_1</th>\n",
       "      <th>gol_trasferta_2</th>\n",
       "      <th>gol_trasferta_3</th>\n",
       "      <th>gol_trasferta_4</th>\n",
       "    </tr>\n",
       "  </thead>\n",
       "  <tbody>\n",
       "    <tr>\n",
       "      <th>59</th>\n",
       "      <td>Quarter-final</td>\n",
       "      <td>ENGLAND</td>\n",
       "      <td>FRANCE</td>\n",
       "      <td>2022-12-10 20:00:00</td>\n",
       "      <td>1</td>\n",
       "      <td>2</td>\n",
       "      <td>0</td>\n",
       "      <td>0</td>\n",
       "      <td>ENGLAND-FRANCE</td>\n",
       "      <td>2022-12-10</td>\n",
       "      <td>...</td>\n",
       "      <td>NaN</td>\n",
       "      <td>NaN</td>\n",
       "      <td>NaN</td>\n",
       "      <td>NaN</td>\n",
       "      <td>NaN</td>\n",
       "      <td>NaN</td>\n",
       "      <td>Aurelien TCHOUAMENI</td>\n",
       "      <td>Olivier GIROUD</td>\n",
       "      <td>NaN</td>\n",
       "      <td>NaN</td>\n",
       "    </tr>\n",
       "    <tr>\n",
       "      <th>60</th>\n",
       "      <td>Semi-final</td>\n",
       "      <td>ARGENTINA</td>\n",
       "      <td>CROATIA</td>\n",
       "      <td>2022-12-13 20:00:00</td>\n",
       "      <td>3</td>\n",
       "      <td>0</td>\n",
       "      <td>0</td>\n",
       "      <td>0</td>\n",
       "      <td>ARGENTINA-CROATIA</td>\n",
       "      <td>2022-12-13</td>\n",
       "      <td>...</td>\n",
       "      <td>Julian ALVAREZ</td>\n",
       "      <td>Julian ALVAREZ</td>\n",
       "      <td>NaN</td>\n",
       "      <td>NaN</td>\n",
       "      <td>NaN</td>\n",
       "      <td>NaN</td>\n",
       "      <td>NaN</td>\n",
       "      <td>NaN</td>\n",
       "      <td>NaN</td>\n",
       "      <td>NaN</td>\n",
       "    </tr>\n",
       "    <tr>\n",
       "      <th>61</th>\n",
       "      <td>Semi-final</td>\n",
       "      <td>FRANCE</td>\n",
       "      <td>MOROCCO</td>\n",
       "      <td>2022-12-14 20:00:00</td>\n",
       "      <td>2</td>\n",
       "      <td>0</td>\n",
       "      <td>0</td>\n",
       "      <td>0</td>\n",
       "      <td>FRANCE-MOROCCO</td>\n",
       "      <td>2022-12-14</td>\n",
       "      <td>...</td>\n",
       "      <td>Randal KOLO MUANI</td>\n",
       "      <td>NaN</td>\n",
       "      <td>NaN</td>\n",
       "      <td>NaN</td>\n",
       "      <td>NaN</td>\n",
       "      <td>NaN</td>\n",
       "      <td>NaN</td>\n",
       "      <td>NaN</td>\n",
       "      <td>NaN</td>\n",
       "      <td>NaN</td>\n",
       "    </tr>\n",
       "    <tr>\n",
       "      <th>62</th>\n",
       "      <td>Play-off for third place</td>\n",
       "      <td>CROATIA</td>\n",
       "      <td>MOROCCO</td>\n",
       "      <td>2022-12-17 16:00:00</td>\n",
       "      <td>2</td>\n",
       "      <td>1</td>\n",
       "      <td>0</td>\n",
       "      <td>0</td>\n",
       "      <td>CROATIA-MOROCCO</td>\n",
       "      <td>2022-12-17</td>\n",
       "      <td>...</td>\n",
       "      <td>Mislav ORSIC</td>\n",
       "      <td>NaN</td>\n",
       "      <td>NaN</td>\n",
       "      <td>NaN</td>\n",
       "      <td>NaN</td>\n",
       "      <td>NaN</td>\n",
       "      <td>Achraf DARI</td>\n",
       "      <td>NaN</td>\n",
       "      <td>NaN</td>\n",
       "      <td>NaN</td>\n",
       "    </tr>\n",
       "    <tr>\n",
       "      <th>63</th>\n",
       "      <td>Final</td>\n",
       "      <td>ARGENTINA</td>\n",
       "      <td>FRANCE</td>\n",
       "      <td>2022-12-18 16:00:00</td>\n",
       "      <td>3</td>\n",
       "      <td>3</td>\n",
       "      <td>4</td>\n",
       "      <td>2</td>\n",
       "      <td>ARGENTINA-FRANCE</td>\n",
       "      <td>2022-12-18</td>\n",
       "      <td>...</td>\n",
       "      <td>Angel DI MARIA</td>\n",
       "      <td>Lionel MESSI</td>\n",
       "      <td>NaN</td>\n",
       "      <td>NaN</td>\n",
       "      <td>NaN</td>\n",
       "      <td>NaN</td>\n",
       "      <td>Kylian MBAPPE</td>\n",
       "      <td>Kylian MBAPPE</td>\n",
       "      <td>Kylian MBAPPE</td>\n",
       "      <td>NaN</td>\n",
       "    </tr>\n",
       "  </tbody>\n",
       "</table>\n",
       "<p>5 rows × 54 columns</p>\n",
       "</div>"
      ],
      "text/plain": [
       "             tipo_di_partita squadra_in_casa squadra_in_trasferta  \\\n",
       "59             Quarter-final         ENGLAND               FRANCE   \n",
       "60                Semi-final       ARGENTINA              CROATIA   \n",
       "61                Semi-final          FRANCE              MOROCCO   \n",
       "62  Play-off for third place         CROATIA              MOROCCO   \n",
       "63                     Final       ARGENTINA               FRANCE   \n",
       "\n",
       "     datetime_kick_off  gol_segnati_casa  gol_segnati_trasferta  \\\n",
       "59 2022-12-10 20:00:00                 1                      2   \n",
       "60 2022-12-13 20:00:00                 3                      0   \n",
       "61 2022-12-14 20:00:00                 2                      0   \n",
       "62 2022-12-17 16:00:00                 2                      1   \n",
       "63 2022-12-18 16:00:00                 3                      3   \n",
       "\n",
       "    rigori_finali_segnati_casa  rigori_finali_segnati_trasferta  \\\n",
       "59                           0                                0   \n",
       "60                           0                                0   \n",
       "61                           0                                0   \n",
       "62                           0                                0   \n",
       "63                           4                                2   \n",
       "\n",
       "         nome_partita kick_off_day  ...         gol_casa_2      gol_casa_3  \\\n",
       "59     ENGLAND-FRANCE   2022-12-10  ...                NaN             NaN   \n",
       "60  ARGENTINA-CROATIA   2022-12-13  ...     Julian ALVAREZ  Julian ALVAREZ   \n",
       "61     FRANCE-MOROCCO   2022-12-14  ...  Randal KOLO MUANI             NaN   \n",
       "62    CROATIA-MOROCCO   2022-12-17  ...       Mislav ORSIC             NaN   \n",
       "63   ARGENTINA-FRANCE   2022-12-18  ...     Angel DI MARIA    Lionel MESSI   \n",
       "\n",
       "    gol_casa_4  gol_casa_5  gol_casa_6  gol_casa_7      gol_trasferta_1  \\\n",
       "59         NaN         NaN         NaN         NaN  Aurelien TCHOUAMENI   \n",
       "60         NaN         NaN         NaN         NaN                  NaN   \n",
       "61         NaN         NaN         NaN         NaN                  NaN   \n",
       "62         NaN         NaN         NaN         NaN          Achraf DARI   \n",
       "63         NaN         NaN         NaN         NaN        Kylian MBAPPE   \n",
       "\n",
       "    gol_trasferta_2  gol_trasferta_3  gol_trasferta_4  \n",
       "59   Olivier GIROUD              NaN              NaN  \n",
       "60              NaN              NaN              NaN  \n",
       "61              NaN              NaN              NaN  \n",
       "62              NaN              NaN              NaN  \n",
       "63    Kylian MBAPPE    Kylian MBAPPE              NaN  \n",
       "\n",
       "[5 rows x 54 columns]"
      ]
     },
     "execution_count": 39,
     "metadata": {},
     "output_type": "execute_result"
    }
   ],
   "source": [
    "games_stats_dataframes_concat = pd.concat(list_of_games_stats_dataframes, \n",
    "                                          ignore_index=True)\n",
    "\n",
    "lista_completa_nomi_gol00 = []\n",
    "lista_completa_nomi_gol00_index = []\n",
    "list888 = list(games_stats_dataframes_concat.columns)\n",
    "for i in range(len(list888)):\n",
    "    if (list888[i].startswith('gol_casa')\n",
    "       ) or (list888[i].startswith('gol_trasferta')) or (\n",
    "        list888[i].startswith('cartellino_rosso_casa')):\n",
    "            lista_completa_nomi_gol00.append(list888[i])\n",
    "            lista_completa_nomi_gol00_index.append(i)\n",
    "\n",
    "list888_01 = list888[0:(lista_completa_nomi_gol00_index[0])]\n",
    "lista_completa_nomi_gol00.sort()\n",
    "lista_aggiornata_nomi_colonne = list888_01 + lista_completa_nomi_gol00\n",
    "\n",
    "games_stats_dataframes_concat = games_stats_dataframes_concat[\n",
    "    lista_aggiornata_nomi_colonne]\n",
    "\n",
    "games_stats_dataframes_concat.tail()"
   ]
  },
  {
   "cell_type": "code",
   "execution_count": 40,
   "id": "92da75e6-7e65-40ea-b420-f41de521d819",
   "metadata": {},
   "outputs": [],
   "source": [
    "# partite senza cartellini rossi\n",
    "\n",
    "games_stats_dataframes_concat1_senza_cartellini_rossi = games_stats_dataframes_concat[\n",
    "    (games_stats_dataframes_concat['espulsioni_casa']==0) &\n",
    "    (games_stats_dataframes_concat['espulsioni_trasferta']==0)]"
   ]
  },
  {
   "cell_type": "code",
   "execution_count": 41,
   "id": "53f9494d-776f-4f83-8348-e2ef5dde7b09",
   "metadata": {},
   "outputs": [
    {
     "data": {
      "text/html": [
       "<div>\n",
       "<style scoped>\n",
       "    .dataframe tbody tr th:only-of-type {\n",
       "        vertical-align: middle;\n",
       "    }\n",
       "\n",
       "    .dataframe tbody tr th {\n",
       "        vertical-align: top;\n",
       "    }\n",
       "\n",
       "    .dataframe thead th {\n",
       "        text-align: right;\n",
       "    }\n",
       "</style>\n",
       "<table border=\"1\" class=\"dataframe\">\n",
       "  <thead>\n",
       "    <tr style=\"text-align: right;\">\n",
       "      <th></th>\n",
       "      <th>tipo_di_partita</th>\n",
       "      <th>squadra_in_casa</th>\n",
       "      <th>squadra_in_trasferta</th>\n",
       "      <th>datetime_kick_off</th>\n",
       "      <th>espulsioni_casa</th>\n",
       "      <th>espulsioni_trasferta</th>\n",
       "      <th>cartellino_rosso_casa_1</th>\n",
       "      <th>gol_casa_1</th>\n",
       "      <th>gol_casa_2</th>\n",
       "      <th>gol_casa_3</th>\n",
       "    </tr>\n",
       "  </thead>\n",
       "  <tbody>\n",
       "    <tr>\n",
       "      <th>16</th>\n",
       "      <td>Group B</td>\n",
       "      <td>WALES</td>\n",
       "      <td>IRAN</td>\n",
       "      <td>2022-11-25 11:00:00</td>\n",
       "      <td>1</td>\n",
       "      <td>0</td>\n",
       "      <td>Wayne HENNESSEY</td>\n",
       "      <td>NaN</td>\n",
       "      <td>NaN</td>\n",
       "      <td>NaN</td>\n",
       "    </tr>\n",
       "    <tr>\n",
       "      <th>47</th>\n",
       "      <td>Group G</td>\n",
       "      <td>CAMEROON</td>\n",
       "      <td>BRAZIL</td>\n",
       "      <td>2022-12-02 20:00:00</td>\n",
       "      <td>1</td>\n",
       "      <td>0</td>\n",
       "      <td>Vincent ABOUBAKAR</td>\n",
       "      <td>Vincent ABOUBAKAR</td>\n",
       "      <td>NaN</td>\n",
       "      <td>NaN</td>\n",
       "    </tr>\n",
       "    <tr>\n",
       "      <th>57</th>\n",
       "      <td>Quarter-final</td>\n",
       "      <td>NETHERLANDS</td>\n",
       "      <td>ARGENTINA</td>\n",
       "      <td>2022-12-09 20:00:00</td>\n",
       "      <td>1</td>\n",
       "      <td>0</td>\n",
       "      <td>Denzel DUMFRIES</td>\n",
       "      <td>Wout WEGHORST</td>\n",
       "      <td>Wout WEGHORST</td>\n",
       "      <td>NaN</td>\n",
       "    </tr>\n",
       "    <tr>\n",
       "      <th>58</th>\n",
       "      <td>Quarter-final</td>\n",
       "      <td>MOROCCO</td>\n",
       "      <td>PORTUGAL</td>\n",
       "      <td>2022-12-10 16:00:00</td>\n",
       "      <td>1</td>\n",
       "      <td>0</td>\n",
       "      <td>Walid CHEDDIRA</td>\n",
       "      <td>Youssef EN NESYRI</td>\n",
       "      <td>NaN</td>\n",
       "      <td>NaN</td>\n",
       "    </tr>\n",
       "  </tbody>\n",
       "</table>\n",
       "</div>"
      ],
      "text/plain": [
       "   tipo_di_partita squadra_in_casa squadra_in_trasferta   datetime_kick_off  \\\n",
       "16         Group B           WALES                 IRAN 2022-11-25 11:00:00   \n",
       "47         Group G        CAMEROON               BRAZIL 2022-12-02 20:00:00   \n",
       "57   Quarter-final     NETHERLANDS            ARGENTINA 2022-12-09 20:00:00   \n",
       "58   Quarter-final         MOROCCO             PORTUGAL 2022-12-10 16:00:00   \n",
       "\n",
       "    espulsioni_casa  espulsioni_trasferta cartellino_rosso_casa_1  \\\n",
       "16                1                     0         Wayne HENNESSEY   \n",
       "47                1                     0       Vincent ABOUBAKAR   \n",
       "57                1                     0         Denzel DUMFRIES   \n",
       "58                1                     0          Walid CHEDDIRA   \n",
       "\n",
       "           gol_casa_1     gol_casa_2 gol_casa_3  \n",
       "16                NaN            NaN        NaN  \n",
       "47  Vincent ABOUBAKAR            NaN        NaN  \n",
       "57      Wout WEGHORST  Wout WEGHORST        NaN  \n",
       "58  Youssef EN NESYRI            NaN        NaN  "
      ]
     },
     "execution_count": 41,
     "metadata": {},
     "output_type": "execute_result"
    }
   ],
   "source": [
    "# partite con cartellini rossi --> nella pagina web del sito FIFA,\n",
    "# i nomi dei giocatori che hanno segnato un gol sono indicati\n",
    "#nello stesso box dei giocatori che hanno preso un cartellino rosso\n",
    "\n",
    "cartellini_rossi = games_stats_dataframes_concat[\n",
    "    (games_stats_dataframes_concat['espulsioni_casa']>0) |\n",
    "    (games_stats_dataframes_concat['espulsioni_trasferta']>0)].copy()\n",
    "\n",
    "'''\n",
    "cartellini_rossi = cartellini_rossi.rename(\n",
    "    columns={\"gol_0\": \"red_card_0\"})\n",
    "gol_names_list = []\n",
    "gol_names_list00 = []\n",
    "for i in list(cartellini_rossi.columns):\n",
    "    if (i.startswith('gol_')) and (len(i)<=5):\n",
    "        gol_names_list.append(i)\n",
    "        qq = 'gol_' + str(int(i[-1])-1)\n",
    "        gol_names_list00.append(qq)\n",
    "dict_gol_names = dict(zip(gol_names_list, gol_names_list00))\n",
    "cartellini_rossi = cartellini_rossi.rename(columns=dict_gol_names)\n",
    "'''\n",
    "\n",
    "cartellini_rossi[['tipo_di_partita',\n",
    "                  'squadra_in_casa',\n",
    "                  'squadra_in_trasferta',\t\n",
    "                  'datetime_kick_off',\n",
    "                  'espulsioni_casa',\n",
    "                  'espulsioni_trasferta',\n",
    "                  'cartellino_rosso_casa_1',\n",
    "                  'gol_casa_1',\n",
    "                  'gol_casa_2',\n",
    "                  'gol_casa_3',\n",
    "                  ]]"
   ]
  },
  {
   "cell_type": "raw",
   "id": "7da8bf22-9158-4da1-bddd-453b56226274",
   "metadata": {},
   "source": [
    "games_stats_dataframes_concat_final = pd.concat([\n",
    "    games_stats_dataframes_concat1,cartellini_rossi],\n",
    "    ignore_index=True\n",
    "    ).sort_values(by='datetime_kick_off',\n",
    "                                  ascending=True)\n",
    "\n",
    "games_stats_dataframes_concat_final"
   ]
  },
  {
   "cell_type": "code",
   "execution_count": 42,
   "id": "12455aea-6daa-4e0d-94fc-05c4dab26357",
   "metadata": {},
   "outputs": [
    {
     "data": {
      "text/plain": [
       "(64, 54)"
      ]
     },
     "execution_count": 42,
     "metadata": {},
     "output_type": "execute_result"
    }
   ],
   "source": [
    "games_stats_dataframes_concat.shape"
   ]
  },
  {
   "cell_type": "code",
   "execution_count": 43,
   "id": "21172984-0ff1-4843-ba34-b90d0c7bc291",
   "metadata": {},
   "outputs": [],
   "source": [
    "name_of_csv_file = '2022_qatar_world_cup_official_stats_FIFA.csv'\n",
    "path_of_csv_file = os.path.join(path_download, name_of_csv_file)\n",
    "games_stats_dataframes_concat.to_csv(path_or_buf=path_of_csv_file\n",
    "                                    ,sep=';'\n",
    "                                    ,header=True\n",
    "                                    ,index=False)"
   ]
  },
  {
   "cell_type": "markdown",
   "id": "475f903f",
   "metadata": {},
   "source": [
    "# Inserimento su mongo"
   ]
  },
  {
   "cell_type": "code",
   "execution_count": 44,
   "id": "c2083ef1-3a34-4fbb-b718-e8ea05a7a8e0",
   "metadata": {},
   "outputs": [],
   "source": [
    "stats = games_stats_dataframes_concat.copy()"
   ]
  },
  {
   "cell_type": "code",
   "execution_count": 125,
   "id": "3dece1fa",
   "metadata": {},
   "outputs": [],
   "source": [
    "games_stats_dataframes_concat=games_stats_dataframes_concat.replace(to_replace=\"KOREA REPUBLIC-GHANA\",\n",
    "         value=\"KOREA-GHANA\")#per l'integrazione con il ranking\n",
    "games_stats_dataframes_concat=games_stats_dataframes_concat.replace(to_replace=\"KOREA REPUBLIC-PORTUGAL\",\n",
    "         value=\"KOREA-PORTUGAL\")\n",
    "games_stats_dataframes_concat=games_stats_dataframes_concat.replace(to_replace=\"BRAZIL-KOREA REPUBLIC\",\n",
    "         value=\"BRAZIL-KOREA\")\n",
    "games_stats_dataframes_concat=games_stats_dataframes_concat.replace(to_replace=\"URUGUAY-KOREA REPUBLIC\",\n",
    "         value=\"URUGUAY-KOREA\")\n",
    "#stats=stats.replace(to_replace=\"UNITED STATES-WALES\",\n",
    " #        value=\"USA-WALES\")#per l'integrazione con il ranking\n",
    "#stats=stats.replace(to_replace=\"IRAN-UNITED STATES\",\n",
    " #        value=\"IRAN-USA\")\n",
    "#stats=stats.replace(to_replace=\"NETHERLANDS-UNITED STATES\",\n",
    "#         value=\"NETHERLANDS-USA\")\n",
    "#stats=stats.replace(to_replace=\"ENGLAND-UNITED STATES\",\n",
    " #        value=\"ENGLAND-USA\")"
   ]
  },
  {
   "cell_type": "code",
   "execution_count": 126,
   "id": "e88e6e40",
   "metadata": {},
   "outputs": [
    {
     "data": {
      "text/html": [
       "<div>\n",
       "<style scoped>\n",
       "    .dataframe tbody tr th:only-of-type {\n",
       "        vertical-align: middle;\n",
       "    }\n",
       "\n",
       "    .dataframe tbody tr th {\n",
       "        vertical-align: top;\n",
       "    }\n",
       "\n",
       "    .dataframe thead th {\n",
       "        text-align: right;\n",
       "    }\n",
       "</style>\n",
       "<table border=\"1\" class=\"dataframe\">\n",
       "  <thead>\n",
       "    <tr style=\"text-align: right;\">\n",
       "      <th></th>\n",
       "      <th>tipo_di_partita</th>\n",
       "      <th>squadra_in_casa</th>\n",
       "      <th>squadra_in_trasferta</th>\n",
       "      <th>datetime_kick_off</th>\n",
       "      <th>gol_segnati_casa</th>\n",
       "      <th>gol_segnati_trasferta</th>\n",
       "      <th>rigori_finali_segnati_casa</th>\n",
       "      <th>rigori_finali_segnati_trasferta</th>\n",
       "      <th>nome_partita</th>\n",
       "      <th>kick_off_day</th>\n",
       "      <th>...</th>\n",
       "      <th>gol_casa_2</th>\n",
       "      <th>gol_casa_3</th>\n",
       "      <th>gol_casa_4</th>\n",
       "      <th>gol_casa_5</th>\n",
       "      <th>gol_casa_6</th>\n",
       "      <th>gol_casa_7</th>\n",
       "      <th>gol_trasferta_1</th>\n",
       "      <th>gol_trasferta_2</th>\n",
       "      <th>gol_trasferta_3</th>\n",
       "      <th>gol_trasferta_4</th>\n",
       "    </tr>\n",
       "  </thead>\n",
       "  <tbody>\n",
       "    <tr>\n",
       "      <th>0</th>\n",
       "      <td>Group A</td>\n",
       "      <td>QATAR</td>\n",
       "      <td>ECUADOR</td>\n",
       "      <td>2022-11-20 17:00:00</td>\n",
       "      <td>0</td>\n",
       "      <td>2</td>\n",
       "      <td>0</td>\n",
       "      <td>0</td>\n",
       "      <td>QATAR-ECUADOR</td>\n",
       "      <td>2022-11-20</td>\n",
       "      <td>...</td>\n",
       "      <td>NaN</td>\n",
       "      <td>NaN</td>\n",
       "      <td>NaN</td>\n",
       "      <td>NaN</td>\n",
       "      <td>NaN</td>\n",
       "      <td>NaN</td>\n",
       "      <td>Enner VALENCIA</td>\n",
       "      <td>Enner VALENCIA</td>\n",
       "      <td>NaN</td>\n",
       "      <td>NaN</td>\n",
       "    </tr>\n",
       "    <tr>\n",
       "      <th>1</th>\n",
       "      <td>Group B</td>\n",
       "      <td>ENGLAND</td>\n",
       "      <td>IRAN</td>\n",
       "      <td>2022-11-21 14:00:00</td>\n",
       "      <td>6</td>\n",
       "      <td>2</td>\n",
       "      <td>0</td>\n",
       "      <td>0</td>\n",
       "      <td>ENGLAND-IRAN</td>\n",
       "      <td>2022-11-21</td>\n",
       "      <td>...</td>\n",
       "      <td>Bukayo SAKA</td>\n",
       "      <td>Raheem STERLING</td>\n",
       "      <td>Bukayo SAKA</td>\n",
       "      <td>Marcus RASHFORD</td>\n",
       "      <td>Jack GREALISH</td>\n",
       "      <td>NaN</td>\n",
       "      <td>Mehdi TAREMI</td>\n",
       "      <td>Mehdi TAREMI</td>\n",
       "      <td>NaN</td>\n",
       "      <td>NaN</td>\n",
       "    </tr>\n",
       "    <tr>\n",
       "      <th>2</th>\n",
       "      <td>Group A</td>\n",
       "      <td>SENEGAL</td>\n",
       "      <td>NETHERLANDS</td>\n",
       "      <td>2022-11-21 17:00:00</td>\n",
       "      <td>0</td>\n",
       "      <td>2</td>\n",
       "      <td>0</td>\n",
       "      <td>0</td>\n",
       "      <td>SENEGAL-NETHERLANDS</td>\n",
       "      <td>2022-11-21</td>\n",
       "      <td>...</td>\n",
       "      <td>NaN</td>\n",
       "      <td>NaN</td>\n",
       "      <td>NaN</td>\n",
       "      <td>NaN</td>\n",
       "      <td>NaN</td>\n",
       "      <td>NaN</td>\n",
       "      <td>Cody GAKPO</td>\n",
       "      <td>Davy KLAASSEN</td>\n",
       "      <td>NaN</td>\n",
       "      <td>NaN</td>\n",
       "    </tr>\n",
       "    <tr>\n",
       "      <th>3</th>\n",
       "      <td>Group B</td>\n",
       "      <td>UNITED STATES</td>\n",
       "      <td>WALES</td>\n",
       "      <td>2022-11-21 20:00:00</td>\n",
       "      <td>1</td>\n",
       "      <td>1</td>\n",
       "      <td>0</td>\n",
       "      <td>0</td>\n",
       "      <td>UNITED STATES-WALES</td>\n",
       "      <td>2022-11-21</td>\n",
       "      <td>...</td>\n",
       "      <td>NaN</td>\n",
       "      <td>NaN</td>\n",
       "      <td>NaN</td>\n",
       "      <td>NaN</td>\n",
       "      <td>NaN</td>\n",
       "      <td>NaN</td>\n",
       "      <td>Gareth BALE</td>\n",
       "      <td>NaN</td>\n",
       "      <td>NaN</td>\n",
       "      <td>NaN</td>\n",
       "    </tr>\n",
       "    <tr>\n",
       "      <th>4</th>\n",
       "      <td>Group C</td>\n",
       "      <td>ARGENTINA</td>\n",
       "      <td>SAUDI ARABIA</td>\n",
       "      <td>2022-11-22 11:00:00</td>\n",
       "      <td>1</td>\n",
       "      <td>2</td>\n",
       "      <td>0</td>\n",
       "      <td>0</td>\n",
       "      <td>ARGENTINA-SAUDI ARABIA</td>\n",
       "      <td>2022-11-22</td>\n",
       "      <td>...</td>\n",
       "      <td>NaN</td>\n",
       "      <td>NaN</td>\n",
       "      <td>NaN</td>\n",
       "      <td>NaN</td>\n",
       "      <td>NaN</td>\n",
       "      <td>NaN</td>\n",
       "      <td>SALEH ALSHEHRI</td>\n",
       "      <td>SALEM ALDAWSARI</td>\n",
       "      <td>NaN</td>\n",
       "      <td>NaN</td>\n",
       "    </tr>\n",
       "    <tr>\n",
       "      <th>...</th>\n",
       "      <td>...</td>\n",
       "      <td>...</td>\n",
       "      <td>...</td>\n",
       "      <td>...</td>\n",
       "      <td>...</td>\n",
       "      <td>...</td>\n",
       "      <td>...</td>\n",
       "      <td>...</td>\n",
       "      <td>...</td>\n",
       "      <td>...</td>\n",
       "      <td>...</td>\n",
       "      <td>...</td>\n",
       "      <td>...</td>\n",
       "      <td>...</td>\n",
       "      <td>...</td>\n",
       "      <td>...</td>\n",
       "      <td>...</td>\n",
       "      <td>...</td>\n",
       "      <td>...</td>\n",
       "      <td>...</td>\n",
       "      <td>...</td>\n",
       "    </tr>\n",
       "    <tr>\n",
       "      <th>59</th>\n",
       "      <td>Quarter-final</td>\n",
       "      <td>ENGLAND</td>\n",
       "      <td>FRANCE</td>\n",
       "      <td>2022-12-10 20:00:00</td>\n",
       "      <td>1</td>\n",
       "      <td>2</td>\n",
       "      <td>0</td>\n",
       "      <td>0</td>\n",
       "      <td>ENGLAND-FRANCE</td>\n",
       "      <td>2022-12-10</td>\n",
       "      <td>...</td>\n",
       "      <td>NaN</td>\n",
       "      <td>NaN</td>\n",
       "      <td>NaN</td>\n",
       "      <td>NaN</td>\n",
       "      <td>NaN</td>\n",
       "      <td>NaN</td>\n",
       "      <td>Aurelien TCHOUAMENI</td>\n",
       "      <td>Olivier GIROUD</td>\n",
       "      <td>NaN</td>\n",
       "      <td>NaN</td>\n",
       "    </tr>\n",
       "    <tr>\n",
       "      <th>60</th>\n",
       "      <td>Semi-final</td>\n",
       "      <td>ARGENTINA</td>\n",
       "      <td>CROATIA</td>\n",
       "      <td>2022-12-13 20:00:00</td>\n",
       "      <td>3</td>\n",
       "      <td>0</td>\n",
       "      <td>0</td>\n",
       "      <td>0</td>\n",
       "      <td>ARGENTINA-CROATIA</td>\n",
       "      <td>2022-12-13</td>\n",
       "      <td>...</td>\n",
       "      <td>Julian ALVAREZ</td>\n",
       "      <td>Julian ALVAREZ</td>\n",
       "      <td>NaN</td>\n",
       "      <td>NaN</td>\n",
       "      <td>NaN</td>\n",
       "      <td>NaN</td>\n",
       "      <td>NaN</td>\n",
       "      <td>NaN</td>\n",
       "      <td>NaN</td>\n",
       "      <td>NaN</td>\n",
       "    </tr>\n",
       "    <tr>\n",
       "      <th>61</th>\n",
       "      <td>Semi-final</td>\n",
       "      <td>FRANCE</td>\n",
       "      <td>MOROCCO</td>\n",
       "      <td>2022-12-14 20:00:00</td>\n",
       "      <td>2</td>\n",
       "      <td>0</td>\n",
       "      <td>0</td>\n",
       "      <td>0</td>\n",
       "      <td>FRANCE-MOROCCO</td>\n",
       "      <td>2022-12-14</td>\n",
       "      <td>...</td>\n",
       "      <td>Randal KOLO MUANI</td>\n",
       "      <td>NaN</td>\n",
       "      <td>NaN</td>\n",
       "      <td>NaN</td>\n",
       "      <td>NaN</td>\n",
       "      <td>NaN</td>\n",
       "      <td>NaN</td>\n",
       "      <td>NaN</td>\n",
       "      <td>NaN</td>\n",
       "      <td>NaN</td>\n",
       "    </tr>\n",
       "    <tr>\n",
       "      <th>62</th>\n",
       "      <td>Play-off for third place</td>\n",
       "      <td>CROATIA</td>\n",
       "      <td>MOROCCO</td>\n",
       "      <td>2022-12-17 16:00:00</td>\n",
       "      <td>2</td>\n",
       "      <td>1</td>\n",
       "      <td>0</td>\n",
       "      <td>0</td>\n",
       "      <td>CROATIA-MOROCCO</td>\n",
       "      <td>2022-12-17</td>\n",
       "      <td>...</td>\n",
       "      <td>Mislav ORSIC</td>\n",
       "      <td>NaN</td>\n",
       "      <td>NaN</td>\n",
       "      <td>NaN</td>\n",
       "      <td>NaN</td>\n",
       "      <td>NaN</td>\n",
       "      <td>Achraf DARI</td>\n",
       "      <td>NaN</td>\n",
       "      <td>NaN</td>\n",
       "      <td>NaN</td>\n",
       "    </tr>\n",
       "    <tr>\n",
       "      <th>63</th>\n",
       "      <td>Final</td>\n",
       "      <td>ARGENTINA</td>\n",
       "      <td>FRANCE</td>\n",
       "      <td>2022-12-18 16:00:00</td>\n",
       "      <td>3</td>\n",
       "      <td>3</td>\n",
       "      <td>4</td>\n",
       "      <td>2</td>\n",
       "      <td>ARGENTINA-FRANCE</td>\n",
       "      <td>2022-12-18</td>\n",
       "      <td>...</td>\n",
       "      <td>Angel DI MARIA</td>\n",
       "      <td>Lionel MESSI</td>\n",
       "      <td>NaN</td>\n",
       "      <td>NaN</td>\n",
       "      <td>NaN</td>\n",
       "      <td>NaN</td>\n",
       "      <td>Kylian MBAPPE</td>\n",
       "      <td>Kylian MBAPPE</td>\n",
       "      <td>Kylian MBAPPE</td>\n",
       "      <td>NaN</td>\n",
       "    </tr>\n",
       "  </tbody>\n",
       "</table>\n",
       "<p>64 rows × 54 columns</p>\n",
       "</div>"
      ],
      "text/plain": [
       "             tipo_di_partita squadra_in_casa squadra_in_trasferta  \\\n",
       "0                    Group A           QATAR              ECUADOR   \n",
       "1                    Group B         ENGLAND                 IRAN   \n",
       "2                    Group A         SENEGAL          NETHERLANDS   \n",
       "3                    Group B   UNITED STATES                WALES   \n",
       "4                    Group C       ARGENTINA         SAUDI ARABIA   \n",
       "..                       ...             ...                  ...   \n",
       "59             Quarter-final         ENGLAND               FRANCE   \n",
       "60                Semi-final       ARGENTINA              CROATIA   \n",
       "61                Semi-final          FRANCE              MOROCCO   \n",
       "62  Play-off for third place         CROATIA              MOROCCO   \n",
       "63                     Final       ARGENTINA               FRANCE   \n",
       "\n",
       "      datetime_kick_off  gol_segnati_casa  gol_segnati_trasferta  \\\n",
       "0   2022-11-20 17:00:00                 0                      2   \n",
       "1   2022-11-21 14:00:00                 6                      2   \n",
       "2   2022-11-21 17:00:00                 0                      2   \n",
       "3   2022-11-21 20:00:00                 1                      1   \n",
       "4   2022-11-22 11:00:00                 1                      2   \n",
       "..                  ...               ...                    ...   \n",
       "59  2022-12-10 20:00:00                 1                      2   \n",
       "60  2022-12-13 20:00:00                 3                      0   \n",
       "61  2022-12-14 20:00:00                 2                      0   \n",
       "62  2022-12-17 16:00:00                 2                      1   \n",
       "63  2022-12-18 16:00:00                 3                      3   \n",
       "\n",
       "    rigori_finali_segnati_casa  rigori_finali_segnati_trasferta  \\\n",
       "0                            0                                0   \n",
       "1                            0                                0   \n",
       "2                            0                                0   \n",
       "3                            0                                0   \n",
       "4                            0                                0   \n",
       "..                         ...                              ...   \n",
       "59                           0                                0   \n",
       "60                           0                                0   \n",
       "61                           0                                0   \n",
       "62                           0                                0   \n",
       "63                           4                                2   \n",
       "\n",
       "              nome_partita kick_off_day  ...         gol_casa_2  \\\n",
       "0            QATAR-ECUADOR   2022-11-20  ...                NaN   \n",
       "1             ENGLAND-IRAN   2022-11-21  ...        Bukayo SAKA   \n",
       "2      SENEGAL-NETHERLANDS   2022-11-21  ...                NaN   \n",
       "3      UNITED STATES-WALES   2022-11-21  ...                NaN   \n",
       "4   ARGENTINA-SAUDI ARABIA   2022-11-22  ...                NaN   \n",
       "..                     ...          ...  ...                ...   \n",
       "59          ENGLAND-FRANCE   2022-12-10  ...                NaN   \n",
       "60       ARGENTINA-CROATIA   2022-12-13  ...     Julian ALVAREZ   \n",
       "61          FRANCE-MOROCCO   2022-12-14  ...  Randal KOLO MUANI   \n",
       "62         CROATIA-MOROCCO   2022-12-17  ...       Mislav ORSIC   \n",
       "63        ARGENTINA-FRANCE   2022-12-18  ...     Angel DI MARIA   \n",
       "\n",
       "         gol_casa_3   gol_casa_4       gol_casa_5     gol_casa_6  gol_casa_7  \\\n",
       "0               NaN          NaN              NaN            NaN         NaN   \n",
       "1   Raheem STERLING  Bukayo SAKA  Marcus RASHFORD  Jack GREALISH         NaN   \n",
       "2               NaN          NaN              NaN            NaN         NaN   \n",
       "3               NaN          NaN              NaN            NaN         NaN   \n",
       "4               NaN          NaN              NaN            NaN         NaN   \n",
       "..              ...          ...              ...            ...         ...   \n",
       "59              NaN          NaN              NaN            NaN         NaN   \n",
       "60   Julian ALVAREZ          NaN              NaN            NaN         NaN   \n",
       "61              NaN          NaN              NaN            NaN         NaN   \n",
       "62              NaN          NaN              NaN            NaN         NaN   \n",
       "63     Lionel MESSI          NaN              NaN            NaN         NaN   \n",
       "\n",
       "        gol_trasferta_1  gol_trasferta_2  gol_trasferta_3  gol_trasferta_4  \n",
       "0        Enner VALENCIA   Enner VALENCIA              NaN              NaN  \n",
       "1          Mehdi TAREMI     Mehdi TAREMI              NaN              NaN  \n",
       "2            Cody GAKPO    Davy KLAASSEN              NaN              NaN  \n",
       "3           Gareth BALE              NaN              NaN              NaN  \n",
       "4        SALEH ALSHEHRI  SALEM ALDAWSARI              NaN              NaN  \n",
       "..                  ...              ...              ...              ...  \n",
       "59  Aurelien TCHOUAMENI   Olivier GIROUD              NaN              NaN  \n",
       "60                  NaN              NaN              NaN              NaN  \n",
       "61                  NaN              NaN              NaN              NaN  \n",
       "62          Achraf DARI              NaN              NaN              NaN  \n",
       "63        Kylian MBAPPE    Kylian MBAPPE    Kylian MBAPPE              NaN  \n",
       "\n",
       "[64 rows x 54 columns]"
      ]
     },
     "execution_count": 126,
     "metadata": {},
     "output_type": "execute_result"
    }
   ],
   "source": [
    "games_stats_dataframes_concat"
   ]
  },
  {
   "cell_type": "code",
   "execution_count": 123,
   "id": "adb9cce4",
   "metadata": {},
   "outputs": [
    {
     "data": {
      "text/plain": [
       "{'tipo_di_partita': 'Group B',\n",
       " 'squadra_in_casa': 'ENGLAND',\n",
       " 'squadra_in_trasferta': 'IRAN',\n",
       " 'datetime_kick_off': '2022-11-21 14:00:00',\n",
       " 'gol_segnati_casa': 6,\n",
       " 'gol_segnati_trasferta': 2,\n",
       " 'rigori_finali_segnati_casa': 0,\n",
       " 'rigori_finali_segnati_trasferta': 0,\n",
       " 'nome_partita': 'ENGLAND-IRAN',\n",
       " 'kick_off_day': '2022-11-21',\n",
       " 'datetime_kick_off_string': '2022-11-21 14:00:00',\n",
       " 'kick_off_day_string': '2022-11-21',\n",
       " 'percentuale_possesso_palla_casa': 72,\n",
       " 'percentuale_possesso_palla_trasferta': 19,\n",
       " 'gol_totale_casa': 6,\n",
       " 'gol_totale_trasferta': 2,\n",
       " 'tiri_totale_casa': 13,\n",
       " 'tiri_totale_trasferta': 8,\n",
       " 'tiri_in_porta_casa': 7,\n",
       " 'tiri_in_porta_trasferta': 3,\n",
       " 'ammonizioni_casa': 0,\n",
       " 'ammonizioni_trasferta': 2,\n",
       " 'espulsioni_casa': 0,\n",
       " 'espulsioni_trasferta': 0,\n",
       " 'falli_subiti_casa': 9,\n",
       " 'falli_subiti_trasferta': 14,\n",
       " 'fuorigioco_casa': 2,\n",
       " 'fuorigioco_trasferta': 2,\n",
       " 'passaggi_casa': 809,\n",
       " 'passaggi_trasferta': 224,\n",
       " 'passaggi_completati_casa': 730,\n",
       " 'passaggi_completati_trasferta': 154,\n",
       " 'cross_casa': 23,\n",
       " 'cross_trasferta': 8,\n",
       " 'cross_completati_casa': 7,\n",
       " 'cross_completati_trasferta': 1,\n",
       " 'corner_casa': 8,\n",
       " 'corner_trasferta': 0,\n",
       " 'calci_piazzati_casa': 16,\n",
       " 'calci_piazzati_trasferta': 10,\n",
       " 'rigori_segnati_casa': 0,\n",
       " 'rigori_segnati_trasferta': 1,\n",
       " 'cartellino_rosso_casa_1': None,\n",
       " 'gol_casa_1': 'Jude BELLINGHAM',\n",
       " 'gol_casa_2': 'Bukayo SAKA',\n",
       " 'gol_casa_3': 'Raheem STERLING',\n",
       " 'gol_casa_4': 'Bukayo SAKA',\n",
       " 'gol_casa_5': 'Marcus RASHFORD',\n",
       " 'gol_casa_6': 'Jack GREALISH',\n",
       " 'gol_casa_7': None,\n",
       " 'gol_trasferta_1': 'Mehdi TAREMI',\n",
       " 'gol_trasferta_2': 'Mehdi TAREMI',\n",
       " 'gol_trasferta_3': None,\n",
       " 'gol_trasferta_4': None}"
      ]
     },
     "execution_count": 123,
     "metadata": {},
     "output_type": "execute_result"
    }
   ],
   "source": [
    "stats_json=games_stats_dataframes_concat.to_json(orient=\"records\")\n",
    "stats_json = json.loads(stats_json)\n",
    "json.dumps(stats_json, indent=4)\n",
    "stats_json[1]\n",
    "\n"
   ]
  },
  {
   "cell_type": "code",
   "execution_count": 127,
   "id": "0eab9ce8",
   "metadata": {},
   "outputs": [
    {
     "data": {
      "text/plain": [
       "pandas.core.frame.DataFrame"
      ]
     },
     "execution_count": 127,
     "metadata": {},
     "output_type": "execute_result"
    }
   ],
   "source": [
    "test = []\n",
    "for i in range(len(stats)):\n",
    "    el = pd.DataFrame(stats.iloc[i , :]).T\n",
    "    el = el.dropna(axis = 1)\n",
    "    test.append(el)\n",
    "type(test[0])\n"
   ]
  },
  {
   "cell_type": "code",
   "execution_count": 128,
   "id": "ef664062",
   "metadata": {},
   "outputs": [
    {
     "data": {
      "text/html": [
       "<div>\n",
       "<style scoped>\n",
       "    .dataframe tbody tr th:only-of-type {\n",
       "        vertical-align: middle;\n",
       "    }\n",
       "\n",
       "    .dataframe tbody tr th {\n",
       "        vertical-align: top;\n",
       "    }\n",
       "\n",
       "    .dataframe thead th {\n",
       "        text-align: right;\n",
       "    }\n",
       "</style>\n",
       "<table border=\"1\" class=\"dataframe\">\n",
       "  <thead>\n",
       "    <tr style=\"text-align: right;\">\n",
       "      <th></th>\n",
       "      <th>tipo_di_partita</th>\n",
       "      <th>squadra_in_casa</th>\n",
       "      <th>squadra_in_trasferta</th>\n",
       "      <th>datetime_kick_off</th>\n",
       "      <th>gol_segnati_casa</th>\n",
       "      <th>gol_segnati_trasferta</th>\n",
       "      <th>rigori_finali_segnati_casa</th>\n",
       "      <th>rigori_finali_segnati_trasferta</th>\n",
       "      <th>nome_partita</th>\n",
       "      <th>kick_off_day</th>\n",
       "      <th>...</th>\n",
       "      <th>cross_casa</th>\n",
       "      <th>cross_trasferta</th>\n",
       "      <th>cross_completati_casa</th>\n",
       "      <th>cross_completati_trasferta</th>\n",
       "      <th>corner_casa</th>\n",
       "      <th>corner_trasferta</th>\n",
       "      <th>calci_piazzati_casa</th>\n",
       "      <th>calci_piazzati_trasferta</th>\n",
       "      <th>rigori_segnati_casa</th>\n",
       "      <th>rigori_segnati_trasferta</th>\n",
       "    </tr>\n",
       "  </thead>\n",
       "  <tbody>\n",
       "    <tr>\n",
       "      <th>6</th>\n",
       "      <td>Group C</td>\n",
       "      <td>MEXICO</td>\n",
       "      <td>POLAND</td>\n",
       "      <td>2022-11-22 17:00:00</td>\n",
       "      <td>0</td>\n",
       "      <td>0</td>\n",
       "      <td>0</td>\n",
       "      <td>0</td>\n",
       "      <td>MEXICO-POLAND</td>\n",
       "      <td>2022-11-22</td>\n",
       "      <td>...</td>\n",
       "      <td>33</td>\n",
       "      <td>10</td>\n",
       "      <td>8</td>\n",
       "      <td>2</td>\n",
       "      <td>6</td>\n",
       "      <td>5</td>\n",
       "      <td>16</td>\n",
       "      <td>16</td>\n",
       "      <td>0</td>\n",
       "      <td>0</td>\n",
       "    </tr>\n",
       "  </tbody>\n",
       "</table>\n",
       "<p>1 rows × 42 columns</p>\n",
       "</div>"
      ],
      "text/plain": [
       "  tipo_di_partita squadra_in_casa squadra_in_trasferta    datetime_kick_off  \\\n",
       "6         Group C          MEXICO               POLAND  2022-11-22 17:00:00   \n",
       "\n",
       "  gol_segnati_casa gol_segnati_trasferta rigori_finali_segnati_casa  \\\n",
       "6                0                     0                          0   \n",
       "\n",
       "  rigori_finali_segnati_trasferta   nome_partita kick_off_day  ... cross_casa  \\\n",
       "6                               0  MEXICO-POLAND   2022-11-22  ...         33   \n",
       "\n",
       "  cross_trasferta cross_completati_casa cross_completati_trasferta  \\\n",
       "6              10                     8                          2   \n",
       "\n",
       "  corner_casa corner_trasferta calci_piazzati_casa calci_piazzati_trasferta  \\\n",
       "6           6                5                  16                       16   \n",
       "\n",
       "  rigori_segnati_casa rigori_segnati_trasferta  \n",
       "6                   0                        0  \n",
       "\n",
       "[1 rows x 42 columns]"
      ]
     },
     "execution_count": 128,
     "metadata": {},
     "output_type": "execute_result"
    }
   ],
   "source": [
    "test[6]"
   ]
  },
  {
   "cell_type": "code",
   "execution_count": 140,
   "id": "3ad57019",
   "metadata": {},
   "outputs": [
    {
     "data": {
      "text/plain": [
       "{'tipo_di_partita': 'Group A',\n",
       " 'squadra_in_casa': 'QATAR',\n",
       " 'squadra_in_trasferta': 'ECUADOR',\n",
       " 'datetime_kick_off': '2022-11-20 17:00:00',\n",
       " 'gol_segnati_casa': 0,\n",
       " 'gol_segnati_trasferta': 2,\n",
       " 'rigori_finali_segnati_casa': 0,\n",
       " 'rigori_finali_segnati_trasferta': 0,\n",
       " 'nome_partita': 'QATAR-ECUADOR',\n",
       " 'kick_off_day': '2022-11-20',\n",
       " 'datetime_kick_off_string': '2022-11-20 17:00:00',\n",
       " 'kick_off_day_string': '2022-11-20',\n",
       " 'percentuale_possesso_palla_casa': 42,\n",
       " 'percentuale_possesso_palla_trasferta': 50,\n",
       " 'gol_totale_casa': 0,\n",
       " 'gol_totale_trasferta': 2,\n",
       " 'tiri_totale_casa': 5,\n",
       " 'tiri_totale_trasferta': 6,\n",
       " 'tiri_in_porta_casa': 0,\n",
       " 'tiri_in_porta_trasferta': 3,\n",
       " 'ammonizioni_casa': 4,\n",
       " 'ammonizioni_trasferta': 2,\n",
       " 'espulsioni_casa': 0,\n",
       " 'espulsioni_trasferta': 0,\n",
       " 'falli_subiti_casa': 15,\n",
       " 'falli_subiti_trasferta': 15,\n",
       " 'fuorigioco_casa': 3,\n",
       " 'fuorigioco_trasferta': 4,\n",
       " 'passaggi_casa': 450,\n",
       " 'passaggi_trasferta': 480,\n",
       " 'passaggi_completati_casa': 381,\n",
       " 'passaggi_completati_trasferta': 409,\n",
       " 'cross_casa': 9,\n",
       " 'cross_trasferta': 14,\n",
       " 'cross_completati_casa': 4,\n",
       " 'cross_completati_trasferta': 4,\n",
       " 'corner_casa': 1,\n",
       " 'corner_trasferta': 3,\n",
       " 'calci_piazzati_casa': 19,\n",
       " 'calci_piazzati_trasferta': 17,\n",
       " 'rigori_segnati_casa': 0,\n",
       " 'rigori_segnati_trasferta': 1,\n",
       " 'gol_trasferta_1': 'Enner VALENCIA',\n",
       " 'gol_trasferta_2': 'Enner VALENCIA'}"
      ]
     },
     "execution_count": 140,
     "metadata": {},
     "output_type": "execute_result"
    }
   ],
   "source": [
    "stats_json=[]\n",
    "for i in range(0,len(test)):\n",
    "    result=test[i].to_json(orient=\"records\")\n",
    "    parsed = json.loads(result)\n",
    "    json.dumps(parsed, indent=4)\n",
    "    stats_json.append(parsed[0])\n",
    "\n",
    "stats_json[0]\n"
   ]
  },
  {
   "cell_type": "code",
   "execution_count": 141,
   "id": "71656c7e",
   "metadata": {},
   "outputs": [
    {
     "name": "stdout",
     "output_type": "stream",
     "text": [
      "['WorldCup', 'admin', 'config', 'local']\n"
     ]
    }
   ],
   "source": [
    "connessione = pymongo.MongoClient(\"mongodb://localhost:27017/\")\n",
    "\n",
    "WorldCupDb = connessione[\"WorldCup\"] #crea DB\n",
    "WorldCupCollection = WorldCupDb[\"WorldCupStats\"] #crea collezione all'interno del db\n",
    "print(connessione.list_database_names())#si utilizza il db WorldCup\n"
   ]
  },
  {
   "cell_type": "code",
   "execution_count": 142,
   "id": "fadaa965",
   "metadata": {},
   "outputs": [],
   "source": [
    "for i in range(0,len(stats_json)):\n",
    "    inserimento = WorldCupCollection.insert_one(stats_json[i])"
   ]
  },
  {
   "cell_type": "code",
   "execution_count": null,
   "id": "e519fbb0",
   "metadata": {},
   "outputs": [],
   "source": []
  }
 ],
 "metadata": {
  "kernelspec": {
   "display_name": "Python 3 (ipykernel)",
   "language": "python",
   "name": "python3"
  },
  "language_info": {
   "codemirror_mode": {
    "name": "ipython",
    "version": 3
   },
   "file_extension": ".py",
   "mimetype": "text/x-python",
   "name": "python",
   "nbconvert_exporter": "python",
   "pygments_lexer": "ipython3",
   "version": "3.9.13"
  }
 },
 "nbformat": 4,
 "nbformat_minor": 5
}
